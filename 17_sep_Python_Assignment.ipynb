{
 "cells": [
  {
   "cell_type": "code",
   "execution_count": 1,
   "id": "64e00dbc-7d6d-4bd6-8877-38c57dff883a",
   "metadata": {},
   "outputs": [
    {
     "name": "stdout",
     "output_type": "stream",
     "text": [
      "1\n",
      "2\n",
      "3\n",
      "4\n",
      "5\n",
      "6\n",
      "7\n",
      "8\n",
      "9\n",
      "10\n"
     ]
    }
   ],
   "source": [
    "#For Loop :-\n",
    "#1. Write a Python program to print numbers from 1 to 10 using a for loop.\n",
    "\n",
    "def main():\n",
    "    for i in range(1,11):\n",
    "        print(i)\n",
    "if __name__ == \"__main__\":\n",
    "    main()\n",
    "\n"
   ]
  },
  {
   "cell_type": "code",
   "execution_count": 1,
   "id": "72e32c87-29c7-4659-8a99-9340f043003d",
   "metadata": {},
   "outputs": [
    {
     "name": "stdout",
     "output_type": "stream",
     "text": [
      "For loop eg .1\n",
      "pw skills is the best one \n",
      "\n",
      "For loop eg .2\n",
      "Sum =  55\n",
      "\n",
      "While loop eg .1\n",
      "100\n",
      "\n",
      "While loop eg .2\n",
      "100\n"
     ]
    }
   ],
   "source": [
    "#For Loop :-\n",
    "#2. Explain the difference between a for loop and a while loop in Python.\n",
    "\n",
    "def main():\n",
    "    \n",
    "    #for Loop\n",
    "    '''1. For loop is used when we want to iterate over the sequences without any conditions.\n",
    "       2. For loop always has a limit of iteration..like we can declare to which point we have to iterate.\n",
    "       3. This loop is used when we know the endpoint of iteration.'''\n",
    "    #ex.1 Iterating over sequence...\n",
    "    print(\"For loop eg .1\")\n",
    "    lst = [\"pw \",\"skills \",\"is the \",\"best \",\"one \"]\n",
    "    sentence = \"\"\n",
    "    for i in lst:\n",
    "        sentence += i\n",
    "    print(sentence)\n",
    "    \n",
    "    #ex.2 Iterating over range...\n",
    "    print(\"\\nFor loop eg .2\")\n",
    "    sum = 0\n",
    "    for i in range(1,11):\n",
    "        sum+=i\n",
    "    print(\"Sum = \",sum)\n",
    "    \n",
    "#-------------------------------------------------------------------------------------------------------------------------------------------------\n",
    "    \n",
    "    #while loop\n",
    "    '''1. While loop is a Conditional based infinite loop.\n",
    "       2. While loop is used to perform a specific task again & again to get a desired output.\n",
    "       3. This loop is used when you dont know the end of loop and when you will get the desired output.\n",
    "       4. This loop executed repeatedly based on Boolean condition.'''\n",
    "    \n",
    "    #ex.1 Repeating a task to get a desired output\n",
    "    print(\"\\nWhile loop eg .1\")\n",
    "    count = 0\n",
    "    while count != 100:\n",
    "        count+=1\n",
    "    print(count)\n",
    "    \n",
    "    \n",
    "    #ex.2 Infinite loop using break statement\n",
    "    print(\"\\nWhile loop eg .2\")\n",
    "    count2 = 0 \n",
    "    while True:\n",
    "        count2+=2\n",
    "        if count2/2==50:\n",
    "            print(count2)\n",
    "            break\n",
    "        \n",
    "if __name__ == \"__main__\":\n",
    "    main()  \n"
   ]
  },
  {
   "cell_type": "code",
   "execution_count": 2,
   "id": "d7b89ff5-c550-4427-8a06-e5a6a5da4382",
   "metadata": {},
   "outputs": [
    {
     "name": "stdout",
     "output_type": "stream",
     "text": [
      "Sum of nums from 1 to 100 = 5050\n"
     ]
    }
   ],
   "source": [
    "#For Loop :-\n",
    "#3. Write a Python program to calculate the sum of all numbers from 1 to 100 using a for loop.\n",
    "\n",
    "def main():\n",
    "    sum = 0\n",
    "    for i in range(1,101):\n",
    "        sum+=i\n",
    "        \n",
    "    print(f\"Sum of nums from 1 to 100 = {sum}\")    \n",
    "        \n",
    "if __name__ == \"__main__\":\n",
    "    main()  \n",
    "\n"
   ]
  },
  {
   "cell_type": "code",
   "execution_count": 3,
   "id": "6f21b98d-06c3-4c07-9086-c9bb7137f861",
   "metadata": {},
   "outputs": [
    {
     "name": "stdout",
     "output_type": "stream",
     "text": [
      "Now the value of i = 2 from the list..\n",
      "Now the value of i = 5 from the list..\n",
      "Now the value of i = 3 from the list..\n",
      "Now the value of i = 7 from the list..\n",
      "Now the value of i = 9 from the list..\n",
      "Now the value of i = 2 from the list..\n",
      "Now the value of i = 6 from the list..\n",
      "Now the value of i = 5 from the list..\n",
      "Now the value of i = 1 from the list..\n",
      "Now the value of i = 8 from the list..\n",
      "Now the value of i = 9 from the list..\n"
     ]
    }
   ],
   "source": [
    "#For Loop :-\n",
    "#4. How do you iterate through a list using a for loop in Python?\n",
    "\n",
    "def main():\n",
    "    '''-Simply we have to use 'in' keyword and  list name instead of range() function...\n",
    "       -So it will take one by one element from the list or any sequences..\n",
    "       -The iterating variable will be assigned as element of list one by one...'''\n",
    "    #Following ex will show how the iterating variable assigned as to one by element of list..  \n",
    "    #eg..\n",
    "    lst =[2,5,3,7,9,2,6,5,1,8,9]\n",
    "    for i in lst:\n",
    "        print(f\"Now the value of i = {i} from the list..\")\n",
    "\n",
    "        \n",
    "if __name__ == \"__main__\":\n",
    "    main()\n"
   ]
  },
  {
   "cell_type": "code",
   "execution_count": 4,
   "id": "9d0a8cc1-23cd-4b57-ad4f-62f40756afa8",
   "metadata": {},
   "outputs": [
    {
     "name": "stdout",
     "output_type": "stream",
     "text": [
      "Product of lst = 10800\n"
     ]
    }
   ],
   "source": [
    "#For Loop :-\n",
    "#5. Write a Python program to find the product of all elements in a list using a for loop.\n",
    "\n",
    "def main():\n",
    "    lst =[2,5,3,5,1,8,9]\n",
    "    product = 1\n",
    "    for element in lst:\n",
    "        product *= element\n",
    "    print(f\"Product of lst = {product}\")    \n",
    "    \n",
    "if __name__ == \"__main__\":\n",
    "    main()    "
   ]
  },
  {
   "cell_type": "code",
   "execution_count": 7,
   "id": "bd4c2ecc-194e-4d15-9096-99ffc7e8f4dc",
   "metadata": {},
   "outputs": [
    {
     "name": "stdout",
     "output_type": "stream",
     "text": [
      "Even numbers from 1 to 20 :\n",
      "2\n",
      "4\n",
      "6\n",
      "8\n",
      "10\n",
      "12\n",
      "14\n",
      "16\n",
      "18\n",
      "20\n"
     ]
    }
   ],
   "source": [
    "#For Loop :-\n",
    "#6. Create a Python program that prints all even numbers from 1 to 20 using a for loop.\n",
    "\n",
    "def main():\n",
    "    print(f\"Even numbers from 1 to 20 :\")\n",
    "    for i in range(1,21):\n",
    "        if i%2==0:\n",
    "            print(i)\n",
    "        \n",
    "if __name__ == \"__main__\":\n",
    "    main()           "
   ]
  },
  {
   "cell_type": "code",
   "execution_count": 8,
   "id": "fd0d1d0c-c6cf-4648-9a91-c22f74ea7d4d",
   "metadata": {},
   "outputs": [
    {
     "name": "stdin",
     "output_type": "stream",
     "text": [
      "Enter the number 5\n"
     ]
    },
    {
     "name": "stdout",
     "output_type": "stream",
     "text": [
      "Factorial of 5 : 120\n"
     ]
    }
   ],
   "source": [
    "#For Loop :-\n",
    "#7. Write a Python program that calculates the factorial of a number using a for loop.\n",
    "\n",
    "def main():\n",
    "    num = int(input(\"Enter the number\"))\n",
    "    fact = 1\n",
    "    for i in range(1,num+1):\n",
    "        fact *= i\n",
    "        \n",
    "    print(f\"Factorial of {num} : {fact}\")    \n",
    "    \n",
    "if __name__ == \"__main__\":\n",
    "    main()     "
   ]
  },
  {
   "cell_type": "code",
   "execution_count": 9,
   "id": "22eae35e-f697-458b-94e3-96c182910e33",
   "metadata": {},
   "outputs": [
    {
     "name": "stdout",
     "output_type": "stream",
     "text": [
      "List of character of string : ['P', 'w', '-', 's', 'k', 'i', 'l', 'l', 's', ' ', 'i', 's', ' ', 't', 'h', 'e', ' ', 'b', 'e', 's', 't', ' ', 'p', 'l', 'a', 't', 'f', 'o', 'r', 'm', ' ', 't', 'o', ' ', 'l', 'e', 'a', 'r', 'n', ' ', 'd', 'a', 't', 'a', ' ', 's', 'c', 'i', 'e', 'n', 'c', 'e']\n"
     ]
    }
   ],
   "source": [
    "#For Loop :-\n",
    "#8. How can you iterate through the characters of a string using a for loop in Python?\n",
    "\n",
    "def main():\n",
    "    \n",
    "    '''-Simply we have to use 'in' keyword and  string name instead of range() function...\n",
    "       -So it will take one by one element from the String or any sequences..'''\n",
    "    \n",
    "    string = \"Pw-skills is the best platform to learn data science\"\n",
    "    char_lst = []\n",
    "    for char in string:\n",
    "        char_lst.append(char)  # here char will assigned as one by one character from string and it will added to list\n",
    "        \n",
    "    print(f\"List of character of string : {char_lst}\")    \n",
    "        \n",
    "if __name__ == \"__main__\":\n",
    "    main()            \n",
    "        "
   ]
  },
  {
   "cell_type": "code",
   "execution_count": 10,
   "id": "dda720dd-a33b-4902-91b2-c8772506a5df",
   "metadata": {},
   "outputs": [
    {
     "name": "stdout",
     "output_type": "stream",
     "text": [
      "Largest number from lst : 17\n"
     ]
    }
   ],
   "source": [
    "#For Loop :-\n",
    "#9. Write a Python program to find the largest number in a list using a for loop.\n",
    "\n",
    "def main():\n",
    "    lst =[2,5,3,17,9,2,6,5,1,8,9]\n",
    "    \n",
    "    largest = lst[0]\n",
    "    \n",
    "    for i in lst:\n",
    "        if largest < i:\n",
    "            largest = i\n",
    "            \n",
    "    print(f\"Largest number from lst : {largest}\")  \n",
    "    \n",
    "if __name__ == \"__main__\":\n",
    "    main()    \n"
   ]
  },
  {
   "cell_type": "code",
   "execution_count": 12,
   "id": "8ef97743-27b8-4057-bba3-a0ac94b008c2",
   "metadata": {},
   "outputs": [
    {
     "name": "stdin",
     "output_type": "stream",
     "text": [
      "Enter the Number :  5\n"
     ]
    },
    {
     "name": "stdout",
     "output_type": "stream",
     "text": [
      "Fibonacci Sequence : \n",
      "[0, 1, 1, 2, 3, 5]\n"
     ]
    }
   ],
   "source": [
    "#For Loop :-\n",
    "#10. Create a Python program that prints the Fibonacci sequence up to a specified limit using a for loop.\n",
    "\n",
    "def main():\n",
    "    num = int(input(\"Enter the Number : \"))\n",
    "    fibonacci = []\n",
    "    \n",
    "    for i in range(num+1):\n",
    "        if i <2:\n",
    "            fibonacci.append(i)\n",
    "        else:\n",
    "            fibonacci.append(fibonacci[i-1] + fibonacci[i-2])\n",
    "            \n",
    "    print(f\"Fibonacci Sequence : \\n{fibonacci}\")\n",
    "    \n",
    "if __name__ == \"__main__\":\n",
    "    main()    \n",
    "    \n"
   ]
  },
  {
   "cell_type": "code",
   "execution_count": 13,
   "id": "82209920-7fda-4f18-9c66-ead2d8d393e7",
   "metadata": {},
   "outputs": [
    {
     "name": "stdin",
     "output_type": "stream",
     "text": [
      "Enter the string :  Pw-skills is the best platform to learn data science\n"
     ]
    },
    {
     "name": "stdout",
     "output_type": "stream",
     "text": [
      "Total vowels in given string : 14\n"
     ]
    }
   ],
   "source": [
    "#For Loop :-\n",
    "#11. Write a Python program to count the number of vowels in a given string using a for loop.\n",
    "\n",
    "def main():\n",
    "    string = input(\"Enter the string : \")\n",
    "    vowels = \"AaEeIiOoUu\"\n",
    "    vowels_count = 0\n",
    "    for char in string:\n",
    "        if char in vowels:\n",
    "            vowels_count += 1\n",
    "            \n",
    "    print(f\"Total vowels in given string : {vowels_count}\")   \n",
    "    \n",
    "if __name__ == \"__main__\":\n",
    "    main()    \n",
    "        \n",
    "    "
   ]
  },
  {
   "cell_type": "code",
   "execution_count": 14,
   "id": "3ba0f6cd-dea4-4386-9de3-16a7589c819f",
   "metadata": {},
   "outputs": [
    {
     "name": "stdin",
     "output_type": "stream",
     "text": [
      "Enter the number :  5\n"
     ]
    },
    {
     "name": "stdout",
     "output_type": "stream",
     "text": [
      "Table of number 5.\n",
      "\n",
      "5 X 1 = 5\n",
      "5 X 2 = 10\n",
      "5 X 3 = 15\n",
      "5 X 4 = 20\n",
      "5 X 5 = 25\n",
      "5 X 6 = 30\n",
      "5 X 7 = 35\n",
      "5 X 8 = 40\n",
      "5 X 9 = 45\n",
      "5 X 10 = 50\n"
     ]
    }
   ],
   "source": [
    "#For Loop :-\n",
    "#12. Create a Python program that generates a multiplication table for a given number using a for loop.\n",
    "\n",
    "def main():\n",
    "    num = int(input(\"Enter the number : \"))\n",
    "    print(f\"Table of number {num}.\\n\")\n",
    "    for i in range(1,11):\n",
    "        print(f\"{num} X {i} = {num*i}\")\n",
    "        \n",
    "        \n",
    "if __name__ == \"__main__\":\n",
    "    main()           \n",
    "    "
   ]
  },
  {
   "cell_type": "code",
   "execution_count": 15,
   "id": "8011bc16-020e-433b-a9a4-3cba9f925615",
   "metadata": {},
   "outputs": [
    {
     "name": "stdout",
     "output_type": "stream",
     "text": [
      "Reverse list: [9, 8, '2023', 1, 5, 3, 'pw-skills', 2]\n"
     ]
    }
   ],
   "source": [
    "#For Loop :-\n",
    "#13. Write a Python program to reverse a list using a for loop.\n",
    "\n",
    "def main():\n",
    "    lst =[2,\"pw-skills\",3,5,1,\"2023\",8,9]\n",
    "    reverse_lst = [] \n",
    "    for ele in lst[::-1]:\n",
    "        reverse_lst.append(ele)\n",
    "        \n",
    "    print(f\"Reverse list: {reverse_lst}\")    \n",
    "    \n",
    "if __name__ == \"__main__\":\n",
    "    main()               \n",
    "    "
   ]
  },
  {
   "cell_type": "code",
   "execution_count": 17,
   "id": "646d0ebe-082c-4924-b104-54c5b4000e4c",
   "metadata": {},
   "outputs": [
    {
     "name": "stdout",
     "output_type": "stream",
     "text": [
      "lst1 = [2, 5, 3, 7, 5, 9]\n",
      "lst2 = [5, 76, 8, 3, 2]\n",
      "Common elements : [2, 5, 3, 5]..\n"
     ]
    }
   ],
   "source": [
    "#For Loop :-\n",
    "#14. Write a Python program to find the common elements between two lists using a for loop.\n",
    "\n",
    "def main():\n",
    "    lst1 = [2,5,3,7,5,9]\n",
    "    lst2 = [5,76,8,3,2]\n",
    "    common_lst = []\n",
    "    \n",
    "    print(f\"lst1 = {lst1}\\nlst2 = {lst2}\")\n",
    "    for ele in lst1:\n",
    "        if ele in lst2:\n",
    "            common_lst.append(ele)\n",
    "            \n",
    "    print(f\"Common elements : {common_lst}..\")\n",
    "\n",
    "if __name__ == \"__main__\":\n",
    "    main()             "
   ]
  },
  {
   "cell_type": "code",
   "execution_count": 18,
   "id": "b1249acf-5aee-4bec-a415-6c0d4edeb143",
   "metadata": {},
   "outputs": [
    {
     "name": "stdout",
     "output_type": "stream",
     "text": [
      "Key: name, Value: John\n",
      "Key: age, Value: 30\n",
      "Key: city, Value: New York\n"
     ]
    }
   ],
   "source": [
    "#For Loop :-\n",
    "#15. Explain how to use a for loop to iterate through the keys and values of a dictionary in Python.\n",
    "\n",
    "def main():\n",
    "    '''-The iteration over the dictonary is similar to iteration over the list..\n",
    "       -in lst iteration we take only one  iteration variable and so , \n",
    "       while iterating over the dictonary Simply we have to take two variable for an iteration\n",
    "       and we have to use \".items()\" along with dict name..'''\n",
    "    \n",
    "    my_dict = {'name': 'John', 'age': 30, 'city': 'New York'}\n",
    "\n",
    "    for key, value in my_dict.items():\n",
    "        print(f'Key: {key}, Value: {value}')\n",
    "\n",
    "        \n",
    "if __name__ == \"__main__\":\n",
    "    main()           "
   ]
  },
  {
   "cell_type": "code",
   "execution_count": 27,
   "id": "ebcfee4d-ad00-43a8-af81-890b2bc1e77a",
   "metadata": {},
   "outputs": [
    {
     "name": "stdin",
     "output_type": "stream",
     "text": [
      "Enter the Number :  100\n",
      "Enter the Number :  120\n"
     ]
    },
    {
     "name": "stdout",
     "output_type": "stream",
     "text": [
      "20\n"
     ]
    }
   ],
   "source": [
    "#For Loop :-\n",
    "#16. Write a Python program to find the GCD (Greatest Common Divisor) of two numbers using a for loop.\n",
    "\n",
    "def main():\n",
    "    num1 = int(input(\"Enter the Number : \"))\n",
    "    num2 = int(input(\"Enter the Number : \"))\n",
    "    gcd = 0\n",
    "    for i in range(1,num1+1):\n",
    "        if num1%i==0 and num2%i==0:\n",
    "            if i > gcd:\n",
    "                gcd = i\n",
    "    \n",
    "    print(gcd)\n",
    "    \n",
    "if __name__ == \"__main__\":\n",
    "    main()     "
   ]
  },
  {
   "cell_type": "code",
   "execution_count": 31,
   "id": "2e3d8ccf-e8d8-43b1-9ebe-31a6a2b384d6",
   "metadata": {},
   "outputs": [
    {
     "name": "stdin",
     "output_type": "stream",
     "text": [
      "Enter the String :  Racecar\n"
     ]
    },
    {
     "name": "stdout",
     "output_type": "stream",
     "text": [
      "Given string is Palindrome string..\n"
     ]
    }
   ],
   "source": [
    "#For Loop :-\n",
    "#17. Create a Python program that checks if a string is a palindrome using a for loop.\n",
    "\n",
    "def main():\n",
    "    string = input(\"Enter the String : \").lower()\n",
    "    reverse = string[::-1]\n",
    "    \n",
    "    for i in range(len(string)):\n",
    "        if string[i] != reverse[i]:\n",
    "            print(\"Given string is not a palindrome string..\")\n",
    "            break\n",
    "    else:\n",
    "        print(\"Given string is Palindrome string..\")\n",
    "            \n",
    "if __name__ == \"__main__\":\n",
    "    main()        "
   ]
  },
  {
   "cell_type": "code",
   "execution_count": 36,
   "id": "3645f2a5-ac91-47ac-927e-f37efd9f3eca",
   "metadata": {},
   "outputs": [
    {
     "name": "stdout",
     "output_type": "stream",
     "text": [
      "Original List : ['pwskills', 2, 8, 5, 3, 'pwskills', 5.6, 5.6j, 8, 5.6]\n",
      "Duplicate removed List : [2, 5, 3, 'pwskills', 5.6j, 8, 5.6]\n"
     ]
    }
   ],
   "source": [
    "#For Loop :-\n",
    "#18. Write a Python program to remove duplicates from a list using a for loop.\n",
    "\n",
    "def main():\n",
    "    \n",
    "    lst = [\"pwskills\",2,8,5,3,\"pwskills\",5.6,5.6j,8,5.6]\n",
    "    print(f\"Original List : {lst}\")\n",
    "    for ele in lst:\n",
    "        count = lst.count(ele)\n",
    "        if count >1:\n",
    "            lst.remove(ele)\n",
    "            \n",
    "    print(f\"Duplicate removed List : {lst}\")        \n",
    "\n",
    "if __name__ == \"__main__\":\n",
    "    main()            \n",
    "    \n",
    "    \n",
    "    "
   ]
  },
  {
   "cell_type": "code",
   "execution_count": 39,
   "id": "64e91e93-01b1-47f0-abb4-931211902574",
   "metadata": {},
   "outputs": [
    {
     "name": "stdout",
     "output_type": "stream",
     "text": [
      "Total words: 43\n"
     ]
    }
   ],
   "source": [
    "#For Loop :-\n",
    "#19. Create a Python program that counts the number of words in a sentence using a for loop.\n",
    "\n",
    "\n",
    "def main():\n",
    "    sentence = \"Pw-skills is the best platform to learn data science\"\n",
    "    words_count = 0\n",
    "    for char in sentence:\n",
    "        if char.isalpha() and char != \" \":\n",
    "            words_count += 1\n",
    "    print(f\"Total words: {words_count}\")\n",
    "    \n",
    "if __name__ == \"__main__\":\n",
    "    main()      \n",
    "    "
   ]
  },
  {
   "cell_type": "code",
   "execution_count": 46,
   "id": "f7fa1e55-0590-47df-9071-d7a33cb94767",
   "metadata": {},
   "outputs": [
    {
     "name": "stdout",
     "output_type": "stream",
     "text": [
      "Sum of add nums from 1 to 50: 625\n",
      "by Using List Comprehension...\n",
      "625\n"
     ]
    }
   ],
   "source": [
    "#For Loop :-\n",
    "#20. Write a Python program to find the sum of all odd numbers from 1 to 50 using a for loop.\n",
    "\n",
    "def main():\n",
    "    \n",
    "    odd_sum = 0\n",
    "    for i in range(1,51):\n",
    "        if i%2!=0:\n",
    "            \n",
    "            odd_sum += i\n",
    "    print(f\"Sum of add nums from 1 to 50: {odd_sum}\")   \n",
    "    \n",
    "    \n",
    "    #List comprehension eg\n",
    "    print(\"by Using List Comprehension...\")\n",
    "    odd = sum(i for i in range(1,51) if i%2!=0)\n",
    "    print(odd)\n",
    "\n",
    "if __name__ == \"__main__\":\n",
    "    main()  "
   ]
  },
  {
   "cell_type": "code",
   "execution_count": 51,
   "id": "8f482364-1ab2-4f2f-bce8-859fcfab55f9",
   "metadata": {},
   "outputs": [
    {
     "name": "stdin",
     "output_type": "stream",
     "text": [
      "Enter the Year :  2024\n"
     ]
    },
    {
     "name": "stdout",
     "output_type": "stream",
     "text": [
      "2024 is a Leap Year..\n"
     ]
    }
   ],
   "source": [
    "#For Loop :-\n",
    "#21. Write a Python program that checks if a given year is a leap year using a for loop\n",
    "\n",
    "def main():\n",
    "    \n",
    "    year = int(input(\"Enter the Year : \"))\n",
    "    \n",
    "    for _ in range(4):  # Repeat the check 4 times\n",
    "        if (year % 4 == 0 and year % 100 != 0) or (year % 400 == 0):\n",
    "            print(f\"{year} is a Leap Year..\")\n",
    "            break\n",
    "    else:\n",
    "        print(f\"{year} is not a Leap Year..\") \n",
    "        \n",
    "if __name__ == \"__main__\":\n",
    "    main()         \n",
    "        \n",
    "             "
   ]
  },
  {
   "cell_type": "code",
   "execution_count": 55,
   "id": "1fedc258-b5e0-4a14-b72d-22ea816e08c7",
   "metadata": {},
   "outputs": [
    {
     "name": "stdin",
     "output_type": "stream",
     "text": [
      "Enter the Number :  81\n"
     ]
    },
    {
     "name": "stdout",
     "output_type": "stream",
     "text": [
      "Square root of 81 is 9..\n"
     ]
    }
   ],
   "source": [
    "#For Loop :-\n",
    "#22. Create a Python program that calculates the square root of a number using a for loop.\n",
    "\n",
    "def main():\n",
    "    \n",
    "    num = int(input(\"Enter the Number : \"))\n",
    "    square_root = 0\n",
    "    for i in range(1,num+1):\n",
    "        if i**2 == num:\n",
    "            square_root = i\n",
    "            break\n",
    "            \n",
    "    print(f\"Square root of {num} is {square_root}..\") \n",
    "            \n",
    "if __name__ == \"__main__\":\n",
    "    main()  \n",
    "    \n",
    "    "
   ]
  },
  {
   "cell_type": "code",
   "execution_count": 59,
   "id": "782bf4e5-0d88-44f5-99b1-02ab548ea184",
   "metadata": {},
   "outputs": [
    {
     "name": "stdin",
     "output_type": "stream",
     "text": [
      "Enter the 1st Number :  12\n",
      "Enter the 2st Number :  24\n"
     ]
    },
    {
     "name": "stdout",
     "output_type": "stream",
     "text": [
      "LCM of both 12 & 24 = 24..\n"
     ]
    }
   ],
   "source": [
    "#For Loop :-\n",
    "#23. Write a Python program to find the LCM (Least Common Multiple) of two numbers using a for loop.\n",
    "\n",
    "def main():\n",
    "    \n",
    "    num1 = int(input(\"Enter the 1st Number : \"))\n",
    "    num2 = int(input(\"Enter the 2st Number : \"))\n",
    "    \n",
    "    gcd = 0\n",
    "    for i in range(1,num1+1):\n",
    "        if num1%i==0 and num2%i==0:\n",
    "            if i > gcd:\n",
    "                gcd = i\n",
    "    \n",
    "    else:\n",
    "        lcm_result = (num1 * num2) // gcd\n",
    "        \n",
    "    print(f\"LCM of both {num1} & {num2} = {lcm_result}..\")    \n",
    "        \n",
    "\n",
    "if __name__ == \"__main__\":\n",
    "    main() \n",
    "    "
   ]
  },
  {
   "cell_type": "code",
   "execution_count": 62,
   "id": "8781ccf2-e16f-45d9-99fd-613c81a67669",
   "metadata": {},
   "outputs": [
    {
     "name": "stdin",
     "output_type": "stream",
     "text": [
      "Enter the  Number :  -1\n"
     ]
    },
    {
     "name": "stdout",
     "output_type": "stream",
     "text": [
      "-1 is a Negative Number..\n"
     ]
    }
   ],
   "source": [
    "#If else :\n",
    "#1. Write a Python program to check if a number is positive, negative, or zero using an if-else statement.\n",
    "\n",
    "def main():\n",
    "    num = int(input(\"Enter the  Number : \"))\n",
    "    \n",
    "    if num < 0:\n",
    "        print(f\"{num} is a Negative Number..\")\n",
    "    elif num > 0:\n",
    "        print(f\"{num} is a Positive Number..\")\n",
    "    else:\n",
    "        print(f\"{num} is neither Positive nor Negative..\")\n",
    "        \n",
    "if __name__ == \"__main__\":\n",
    "    main()        \n"
   ]
  },
  {
   "cell_type": "code",
   "execution_count": 63,
   "id": "c179e21e-576a-4cc3-aec8-fc51492ab9c0",
   "metadata": {},
   "outputs": [
    {
     "name": "stdin",
     "output_type": "stream",
     "text": [
      "Enter the  Number :  5\n"
     ]
    },
    {
     "name": "stdout",
     "output_type": "stream",
     "text": [
      "5 is a Odd Number..\n"
     ]
    }
   ],
   "source": [
    "#If else :\n",
    "#2. Create a Python program that checks if a given number is even or odd using an if-else statement.\n",
    "\n",
    "def main():\n",
    "    num = int(input(\"Enter the  Number : \"))\n",
    "    \n",
    "    if num%2==0:\n",
    "        print(f\"{num} is a Even Number..\")\n",
    "    else:\n",
    "        print(f\"{num} is a Odd Number..\")\n",
    "        \n",
    "if __name__ == \"__main__\":\n",
    "    main()    \n",
    "    "
   ]
  },
  {
   "cell_type": "code",
   "execution_count": 64,
   "id": "c2d6218c-3809-46d9-b407-b8eee6f8be57",
   "metadata": {},
   "outputs": [
    {
     "name": "stdin",
     "output_type": "stream",
     "text": [
      "Enter your age:  12\n"
     ]
    },
    {
     "name": "stdout",
     "output_type": "stream",
     "text": [
      "You are not a teenager.\n"
     ]
    }
   ],
   "source": [
    "#If else :\n",
    "#3. How can you use nested if-else statements in Python, and provide an example?\n",
    "\n",
    "def main():\n",
    "    '''-Nested if-else is feature to use if-else statement within the if-else.\n",
    "       Suppose if we  have multiple conditions depending upon each other..\n",
    "       suppose if codition1 is true then again Condition2 will be applicable.\n",
    "       Means the condition second is totally depend upon the first one..'''\n",
    "    \n",
    "    #here is an simple example :\n",
    "    # Check if the person is a teenager\n",
    "    age = int(input(\"Enter your age: \")) \n",
    "    if age > 12:\n",
    "        if age <= 19:\n",
    "            print(\"You are a teenager.\")\n",
    "        else:\n",
    "            print(\"You are not a teenager.\")\n",
    "    else:\n",
    "        print(\"You are not a teenager.\")\n",
    "\n",
    "    \n",
    "if __name__ == \"__main__\":\n",
    "    main() \n"
   ]
  },
  {
   "cell_type": "code",
   "execution_count": 66,
   "id": "79405668-5501-414f-ac0a-d55975b58504",
   "metadata": {},
   "outputs": [
    {
     "name": "stdin",
     "output_type": "stream",
     "text": [
      "Enter the 1st Number :  23\n",
      "Enter the 2nd Number :  4\n",
      "Enter the 3rd Number :  56\n"
     ]
    },
    {
     "name": "stdout",
     "output_type": "stream",
     "text": [
      "Greatest num: 56\n"
     ]
    }
   ],
   "source": [
    "#If else :\n",
    "#4. Write a Python program to determine the largest of three numbers using if-else.\n",
    "\n",
    "def main():\n",
    "    num1 = int(input(\"Enter the 1st Number : \"))\n",
    "    num2 = int(input(\"Enter the 2nd Number : \"))\n",
    "    num3 = int(input(\"Enter the 3rd Number : \"))\n",
    "    \n",
    "    if num1==num2==num3:\n",
    "        print(f\"All three nums are equal..\")\n",
    "    \n",
    "    else:\n",
    "        if num1 > num2:\n",
    "            if num1 >= num3:\n",
    "                print(\"Greatest num:\",num1)\n",
    "            else:\n",
    "                print(\"Greatest num:\",num3)\n",
    "        else:\n",
    "            if num2 >= num3:\n",
    "                print(\"Greatest num:\",num2)\n",
    "            else:\n",
    "                print(\"Greatest num:\",num3)\n",
    "    \n",
    "if __name__ == \"__main__\":\n",
    "    main() \n",
    "\n",
    "\n"
   ]
  },
  {
   "cell_type": "code",
   "execution_count": 65,
   "id": "2a5406a1-18c7-4699-bb63-3fff30c8b14a",
   "metadata": {},
   "outputs": [
    {
     "name": "stdin",
     "output_type": "stream",
     "text": [
      "Enter the Number :  -8\n"
     ]
    },
    {
     "name": "stdout",
     "output_type": "stream",
     "text": [
      "Absolute value :  8\n"
     ]
    }
   ],
   "source": [
    "#If else :\n",
    "#5. Write a Python program that calculates the absolute value of a number using if-else.\n",
    "\n",
    "def absolute(num):\n",
    "    if num<0:\n",
    "        return -num\n",
    "    else:\n",
    "        return num\n",
    "\n",
    "def main():\n",
    "    num = int(input(\"Enter the Number : \"))\n",
    "    \n",
    "    print(\"Absolute value : \",absolute(num))\n",
    "    \n",
    "if __name__ == \"__main__\":\n",
    "    main() \n"
   ]
  },
  {
   "cell_type": "code",
   "execution_count": 67,
   "id": "18d6ecd9-eb1e-4a2b-9e48-e531fdcda35d",
   "metadata": {},
   "outputs": [
    {
     "name": "stdin",
     "output_type": "stream",
     "text": [
      "Enter the Character :  E\n"
     ]
    },
    {
     "name": "stdout",
     "output_type": "stream",
     "text": [
      "E is a Vowel..\n"
     ]
    }
   ],
   "source": [
    "#If else :\n",
    "#6. Create a Python program that checks if a given character is a vowel or consonant using if-else.\n",
    "\n",
    "def main():\n",
    "    character = input(\"Enter the Character : \")[0]\n",
    "    vowels = \"AaEeIiOoUu\"\n",
    "    \n",
    "    if character in vowels:\n",
    "        print(f\"{character} is a Vowel..\")\n",
    "    else: \n",
    "        print(f\"{character} is a Consonant..\")\n",
    "        \n",
    "if __name__ == \"__main__\":\n",
    "    main()  \n",
    "    "
   ]
  },
  {
   "cell_type": "code",
   "execution_count": 68,
   "id": "e0a883c1-05e4-4e5a-87f7-2874bbbb114d",
   "metadata": {},
   "outputs": [
    {
     "name": "stdin",
     "output_type": "stream",
     "text": [
      "Enter the age :  18\n"
     ]
    },
    {
     "name": "stdout",
     "output_type": "stream",
     "text": [
      "You are Eligible for voting..\n"
     ]
    }
   ],
   "source": [
    "#If else :\n",
    "#7. Write a Python program to determine if a user is eligible to vote based on their age using if-else.\n",
    "\n",
    "def main():\n",
    "    \n",
    "    age = int(input(\"Enter the age : \"))\n",
    "    \n",
    "    if age >= 18:\n",
    "        print(\"You are Eligible for voting..\")\n",
    "        \n",
    "    else:\n",
    "        print(\"You are not Eligible for voting..\")\n",
    "        \n",
    "if __name__ == \"__main__\":\n",
    "    main()\n",
    "    \n"
   ]
  },
  {
   "cell_type": "code",
   "execution_count": 69,
   "id": "ca036342-e130-4f02-ab7e-eca5f8beacd5",
   "metadata": {},
   "outputs": [
    {
     "name": "stdin",
     "output_type": "stream",
     "text": [
      "Enter the purchase amount:  1200\n"
     ]
    },
    {
     "name": "stdout",
     "output_type": "stream",
     "text": [
      "Discounted Price: 1080.00 (Discount Rate: 10.0%)\n"
     ]
    }
   ],
   "source": [
    "#If else :\n",
    "#8. Create a Python program that calculates the discount amount based on the purchase amount using if-else.\n",
    "\n",
    "def main():\n",
    "    \n",
    "    purchase_amount = float(input(\"Enter the purchase amount: \"))\n",
    "\n",
    "    if purchase_amount >= 1000:\n",
    "        discount_rate = 0.1\n",
    "        discounted_price = purchase_amount * (1 - discount_rate)\n",
    "        print(f\"Discounted Price: {discounted_price:.2f} (Discount Rate: {discount_rate * 100}%)\")\n",
    "    \n",
    "    elif purchase_amount >= 500:\n",
    "        discount_rate = 0.05\n",
    "        discounted_price = purchase_amount * (1 - discount_rate)\n",
    "        print(f\"Discounted Price: {discounted_price:.2f} (Discount Rate: {discount_rate * 100}%)\")\n",
    "    \n",
    "    else:\n",
    "        discount_rate = 0.0\n",
    "        print(f\"No discount applied. Price: {purchase_amount:.2f}\")\n",
    "        \n",
    "if __name__ == \"__main__\":\n",
    "    main()   \n"
   ]
  },
  {
   "cell_type": "code",
   "execution_count": 72,
   "id": "0c8cb22c-1db9-4341-b59d-50bb7416e127",
   "metadata": {},
   "outputs": [
    {
     "name": "stdin",
     "output_type": "stream",
     "text": [
      "Enter the range starting Point :  12\n",
      "Enter the range ending Point :  30\n",
      "Enter the Nunmnber you want to find in range :  12\n"
     ]
    },
    {
     "name": "stdout",
     "output_type": "stream",
     "text": [
      "12 comes in the range of 12 to 30..\n"
     ]
    }
   ],
   "source": [
    "#If else :\n",
    "#9. Write a Python program to check if a number is within a specified range using if-else.\n",
    "\n",
    "def main():\n",
    "    start = int(input(\"Enter the range starting Point : \"))\n",
    "    end = int(input(\"Enter the range ending Point : \"))\n",
    "    number = int(input(\"Enter the Nunmnber you want to find in range : \"))\n",
    "    for i in range(start,end+1):\n",
    "        if i == number:\n",
    "            print(f\"{number} comes in the range of {start} to {end}..\")\n",
    "            break\n",
    "    else:\n",
    "        print(f\"{number} doesnt comes in the range of {start} to {end}..\") \n",
    "        \n",
    "        \n",
    "if __name__ == \"__main__\":\n",
    "    main() \n",
    "    "
   ]
  },
  {
   "cell_type": "code",
   "execution_count": 1,
   "id": "9bdddde9-fb1a-4e59-952f-f8260a2ef03e",
   "metadata": {},
   "outputs": [
    {
     "name": "stdin",
     "output_type": "stream",
     "text": [
      "Enter your score :  70\n"
     ]
    },
    {
     "name": "stdout",
     "output_type": "stream",
     "text": [
      "Passed with grade 'C' \n"
     ]
    }
   ],
   "source": [
    "#If else :\n",
    "#10. Create a Python program that determines the grade of a student based on their score using if-else.\n",
    "\n",
    "def main():\n",
    "    score = int(input(\"Enter your score : \"))\n",
    "    if score >=35:\n",
    "        if score >= 90:\n",
    "            print(\"Passed with grade 'A' \") \n",
    "        elif score >= 80:\n",
    "             print(\"Passed with grade 'B' \") \n",
    "        elif score >= 70:\n",
    "             print(\"Passed with grade 'C' \") \n",
    "        elif score >= 60:\n",
    "             print(\"Passed with grade 'D' \") \n",
    "        else:\n",
    "             print(\"Passed with grade 'F' \")\n",
    "    else:        \n",
    "         print(\"Failed, Better luck next time..\")   \n",
    "            \n",
    "if __name__ == \"__main__\":\n",
    "    main() \n",
    "    "
   ]
  },
  {
   "cell_type": "code",
   "execution_count": 3,
   "id": "2763a701-53a4-472a-b251-720ba78e6e96",
   "metadata": {},
   "outputs": [
    {
     "name": "stdin",
     "output_type": "stream",
     "text": [
      "Enter the String \n"
     ]
    },
    {
     "name": "stdout",
     "output_type": "stream",
     "text": [
      "string is Empty\n"
     ]
    }
   ],
   "source": [
    "#If else :\n",
    "#11. Write a Python program to check if a string is empty or not using if-else.\n",
    "\n",
    "def main():\n",
    "    string = input(\"Enter the String\")\n",
    "    \n",
    "    if len(string) != 0:\n",
    "        print(\"string is Non Empty\")\n",
    "    else:\n",
    "        print(\"string is Empty\")\n",
    "        \n",
    "if __name__ == \"__main__\":\n",
    "    main()         \n",
    "        \n",
    "        "
   ]
  },
  {
   "cell_type": "code",
   "execution_count": 5,
   "id": "81803021-925d-4b1c-8934-f0e5aad28b10",
   "metadata": {},
   "outputs": [
    {
     "name": "stdin",
     "output_type": "stream",
     "text": [
      "Enter the length of the first side:  15\n",
      "Enter the length of the second side:  15\n",
      "Enter the length of the third side:  20\n"
     ]
    },
    {
     "name": "stdout",
     "output_type": "stream",
     "text": [
      "The triangle if isoscales triangle...\n"
     ]
    }
   ],
   "source": [
    "#If else :\n",
    "#12. Create a Python program that identifies the type of a triangle (e.g., equilateral, isosceles, or\n",
    "#    scalene) based on input values using if-else.\n",
    "\n",
    "def which_triangle(side1,side2,side3):\n",
    "    \n",
    "    if side1 == side2 == side3:\n",
    "        triangle_type = \"equilateral\"\n",
    "    elif side1 == side2 or side1 == side3 or side2 == side3:\n",
    "        triangle_type = \"isoscales\"\n",
    "    else:\n",
    "        triangle_type = \"scalene\"\n",
    "    return triangle_type \n",
    "\n",
    "def main():\n",
    "    side1 = float(input(\"Enter the length of the first side: \"))\n",
    "    side2 = float(input(\"Enter the length of the second side: \"))\n",
    "    side3 = float(input(\"Enter the length of the third side: \"))\n",
    "    \n",
    "    print(f\"The triangle if {which_triangle(side1,side2,side3)} triangle...\")\n",
    "    \n",
    "if __name__ == \"__main__\":\n",
    "    main()     \n"
   ]
  },
  {
   "cell_type": "code",
   "execution_count": 6,
   "id": "c2a9da1c-679e-48d9-a281-6c8223bfbdf2",
   "metadata": {},
   "outputs": [
    {
     "name": "stdin",
     "output_type": "stream",
     "text": [
      "Enter the day num between 1 to 7 2\n"
     ]
    },
    {
     "name": "stdout",
     "output_type": "stream",
     "text": [
      "Tuesday\n"
     ]
    }
   ],
   "source": [
    "#If else :\n",
    "#13. Write a Python program to determine the day of the week based on a user-provided number\n",
    "#    using if-else\n",
    "\n",
    "def main():\n",
    "    \n",
    "    daynum = int(input(\"Enter the day num between 1 to 7\"))\n",
    "        \n",
    "    if daynum <= 7:\n",
    "        if daynum == 1:\n",
    "            print(\"Monday\")\n",
    "        elif daynum == 2:\n",
    "            print(\"Tuesday\")\n",
    "        elif daynum == 3:\n",
    "            print(\"Wednesday\")\n",
    "        elif daynum == 4:\n",
    "            print(\"Thursday\")\n",
    "        elif daynum == 5:\n",
    "            print(\"Friday\") \n",
    "        elif daynum == 6:\n",
    "            print(\"Saturday\")  \n",
    "        elif daynum == 7:\n",
    "            print(\"Sunday\")\n",
    "        else:\n",
    "            print(\"Invalid Input. Enter the valid choice between 1 to 7\")\n",
    "    else:\n",
    "        print(\"Invalid Input. Enter the valid choice between 1 to 7\")        \n",
    "        \n",
    "if __name__ == \"__main__\":\n",
    "    main()         \n",
    "    "
   ]
  },
  {
   "cell_type": "code",
   "execution_count": 8,
   "id": "d7fdc11e-d31b-4b72-8102-b81a2905f322",
   "metadata": {},
   "outputs": [
    {
     "name": "stdin",
     "output_type": "stream",
     "text": [
      "Enter the year :  2024\n"
     ]
    },
    {
     "name": "stdout",
     "output_type": "stream",
     "text": [
      "2024 is a leap year.\n"
     ]
    }
   ],
   "source": [
    "#If else :\n",
    "#14. Create a Python program that checks if a given year is a leap year using both if-else and a\n",
    "#    function.\n",
    "\n",
    "def is_leap_year(year):\n",
    "    if year % 4 == 0 and year % 100 != 0:\n",
    "        return True\n",
    "    else:\n",
    "        return False\n",
    "    \n",
    "def main():\n",
    "    year = int(input(\"Enter the year : \"))\n",
    "            \n",
    "    if is_leap_year(year):\n",
    "        \n",
    "        print(f\"{year} is a leap year.\")\n",
    "        \n",
    "    else:\n",
    "        print(f\"{year} is not a leap year.\")   \n",
    "        \n",
    "if __name__ == \"__main__\":\n",
    "    main()           \n",
    "    \n"
   ]
  },
  {
   "cell_type": "code",
   "execution_count": 2,
   "id": "6f0a6d71-a433-4cb1-b8b0-65644b41cf3b",
   "metadata": {},
   "outputs": [
    {
     "name": "stdout",
     "output_type": "stream",
     "text": [
      "Result: 5\n"
     ]
    }
   ],
   "source": [
    "#If else :\n",
    "#15. How do you use the \"assert\" statement in Python to add debugging checks within if-else blocks?\n",
    "\n",
    "'''The assert statement in Python is used to add debugging checks within your code. \n",
    "   It allows you to test whether a certain condition is True, and if it's not, an \n",
    "   AssertionError exception is raised. You can use assert within if-else blocks or \n",
    "   any other part of your code to validate assumptions and ensure that specific conditions \n",
    "   hold true during program execution.'''\n",
    "\n",
    "\n",
    "def divide(a, b):\n",
    "    assert b != 0, \"Division by zero is not allowed.\"\n",
    "    \n",
    "    if a % b == 0:\n",
    "        result = a // b\n",
    "    else:\n",
    "        result = a / b\n",
    "    \n",
    "    return result\n",
    "\n",
    "def main():\n",
    "    numerator = 10\n",
    "    denominator = 2\n",
    "\n",
    "    try:\n",
    "        result = divide(numerator, denominator)\n",
    "        print(f\"Result: {result}\")\n",
    "    except AssertionError as e:\n",
    "        print(f\"Assertion Error: {e}\")\n",
    "    except ZeroDivisionError as e:\n",
    "        print(f\"Zero Division Error: {e}\")\n",
    "        \n",
    "if __name__ == \"__main__\":\n",
    "    main() \n"
   ]
  },
  {
   "cell_type": "code",
   "execution_count": 11,
   "id": "cc30cfc8-468b-47c0-84f3-57a7976a0fc4",
   "metadata": {},
   "outputs": [
    {
     "name": "stdin",
     "output_type": "stream",
     "text": [
      "Enter your age:  61\n"
     ]
    },
    {
     "name": "stdout",
     "output_type": "stream",
     "text": [
      "Congratulations! You are eligible for a senior citizen discount.\n"
     ]
    }
   ],
   "source": [
    "#If else :\n",
    "#16. Create a Python program that determines the eligibility of a person for a senior citizen discount\n",
    "#    based on age using if-else.\n",
    "def main():\n",
    "    \n",
    "    age = int(input(\"Enter your age: \"))\n",
    "\n",
    "    senior_citizen_age = 60\n",
    "\n",
    "    if age >= senior_citizen_age:\n",
    "        print(\"Congratulations! You are eligible for a senior citizen discount.\")\n",
    "    else:\n",
    "        print(\"Sorry, you are not eligible for a senior citizen discount.\")\n",
    "\n",
    "        \n",
    "if __name__ == \"__main__\":\n",
    "    main()\n"
   ]
  },
  {
   "cell_type": "code",
   "execution_count": 12,
   "id": "0067f37a-87d6-4819-b4b4-a8e339c4c6e6",
   "metadata": {},
   "outputs": [
    {
     "name": "stdin",
     "output_type": "stream",
     "text": [
      "Enter a character:  qqq\n"
     ]
    },
    {
     "name": "stdout",
     "output_type": "stream",
     "text": [
      "'q' is a lowercase letter.\n"
     ]
    }
   ],
   "source": [
    "#If else :\n",
    "#17. Write a Python program to categorize a given character as uppercase, lowercase, or neither\n",
    "#    using if-else\n",
    "\n",
    "def main():\n",
    "    char = input(\"Enter a character: \")[0]\n",
    "\n",
    "    if char.isupper():\n",
    "        print(f\"'{char}' is an uppercase letter.\")\n",
    "\n",
    "    elif char.islower():\n",
    "        print(f\"'{char}' is a lowercase letter.\")\n",
    "    else:\n",
    "        print(f\"'{char}' is neither uppercase nor lowercase.\")\n",
    "    \n",
    "\n",
    "        \n",
    "if __name__ == \"__main__\":\n",
    "    main()\n"
   ]
  },
  {
   "cell_type": "code",
   "execution_count": 13,
   "id": "d60d4a1b-5697-4b92-b483-272c18ad72b4",
   "metadata": {},
   "outputs": [
    {
     "name": "stdin",
     "output_type": "stream",
     "text": [
      "Enter the coefficient 'a':  1\n",
      "Enter the coefficient 'b':  2\n",
      "Enter the coefficient 'c':  3\n"
     ]
    },
    {
     "name": "stdout",
     "output_type": "stream",
     "text": [
      "-8.0\n",
      "Complex roots: -1.00 + 1.41i and -1.00 - 1.41i\n"
     ]
    }
   ],
   "source": [
    "#If else :\n",
    "#18. Write a Python program to determine the roots of a quadratic equation using if-else.\n",
    "\n",
    "def main():\n",
    "    \n",
    "    a = float(input(\"Enter the coefficient 'a': \"))\n",
    "    b = float(input(\"Enter the coefficient 'b': \"))\n",
    "    c = float(input(\"Enter the coefficient 'c': \"))\n",
    "\n",
    "    discriminant = b**2 - 4*a*c\n",
    "    print(discriminant)\n",
    "    \n",
    "    if discriminant >= 0:\n",
    "        if discriminant == 0:\n",
    "            root = -b / (2*a)\n",
    "            print(f\"One real root (double root): {root}\")\n",
    "        else:\n",
    "            root1 = (-b + (discriminant ** 0.5)) / (2*a)\n",
    "            root2 = (-b - (discriminant ** 0.5)) / (2*a)\n",
    "            print(f\"Two distinct real roots: {root1} and {root2}\")\n",
    "    else:\n",
    "        real_part = -b / (2*a)\n",
    "        imaginary_part = (abs(discriminant) ** 0.5) / (2*a)\n",
    "        print(f\"Complex roots: {real_part:.2f} + {imaginary_part:.2f}i and {real_part:.2f} - {imaginary_part:.2f}i\")        \n",
    "        \n",
    "        \n",
    "if __name__ == \"__main__\":\n",
    "    main()         \n"
   ]
  },
  {
   "cell_type": "code",
   "execution_count": 15,
   "id": "102ee268-5bca-4dfb-bbec-0750a23ad04f",
   "metadata": {},
   "outputs": [
    {
     "name": "stdin",
     "output_type": "stream",
     "text": [
      "Enter The Year :  2000\n"
     ]
    },
    {
     "name": "stdout",
     "output_type": "stream",
     "text": [
      "Year 2000 is a Century year..\n"
     ]
    }
   ],
   "source": [
    "#If else :\n",
    "#19. Create a Python program that checks if a given year is a century year or not using if-else.\n",
    "\n",
    "def is_century_year(year):\n",
    "    if year%100==0:\n",
    "        return True\n",
    "    else:\n",
    "        return False\n",
    "    \n",
    "def main():\n",
    "    year = int(input(\"Enter The Year : \"))\n",
    "        \n",
    "    if is_century_year(year):\n",
    "        print(f\"Year {year} is a Century year..\")\n",
    "    else:\n",
    "        print(f\"Year {year} is not a Century year..\")\n",
    "   \n",
    "    \n",
    "if __name__ == \"__main__\":\n",
    "    main() \n",
    "\n"
   ]
  },
  {
   "cell_type": "code",
   "execution_count": 18,
   "id": "327a0990-4a24-44cf-832d-3a090326e7a8",
   "metadata": {},
   "outputs": [
    {
     "name": "stdin",
     "output_type": "stream",
     "text": [
      "Enter the Number :  49\n"
     ]
    },
    {
     "name": "stdout",
     "output_type": "stream",
     "text": [
      "49 is a perfect Square of 7\n"
     ]
    }
   ],
   "source": [
    "#If else :\n",
    "#20. Write a Python program to determine if a given number is a perfect square using if-else.\n",
    "\n",
    "def perfect_sqr(num):\n",
    "    square_root = 0\n",
    "    for i in range(1,num+1):\n",
    "        if i**2 == num:\n",
    "            return i\n",
    "            break\n",
    "            \n",
    "    return False\n",
    "\n",
    "\n",
    "def main():\n",
    "    \n",
    "    num = int(input(\"Enter the Number : \"))\n",
    "    \n",
    "    result = perfect_sqr(num)\n",
    "    if result!= False:\n",
    "        print(f\"{num} is a perfect Square of {result}\")\n",
    "        \n",
    "    else:\n",
    "        print(f\"{num} is not a perfect Square of any Number\")\n",
    "            \n",
    "if __name__ == \"__main__\":\n",
    "    main()  \n",
    "    \n"
   ]
  },
  {
   "cell_type": "code",
   "execution_count": null,
   "id": "a51ccd49-81dc-4a2f-81cc-6717e7399fb6",
   "metadata": {},
   "outputs": [],
   "source": [
    "#If else :\n",
    "#21. Explain the purpose of the \"continue\" and \"break\" statements within if-else loops.\n",
    "\n",
    "def main():\n",
    "    \n",
    "    '''-These both the statement used in loops..\n",
    "        ::continue::\n",
    "       -Continue statement is used to skip the current iteration..\n",
    "       -We can use it with the condition..\n",
    "       -As soon as the complier reads the \"continue\" statement it goes at the starting point of loop by skipping the current iteration.\n",
    "       -This statement is used when we want to skip some iteration according to condition...\n",
    "       ::Break::\n",
    "       -Break statement is used to exit the loop..\n",
    "       -As soon as compiler reads the break statement the compiler terminate the loop and comes out of that loop..\n",
    "       -Generally it is used in Infinite loop ,like while loop and we can put a condition when we have to terminate the loop.. '''\n",
    "    lst = []\n",
    "    counter = 0\n",
    "    while True:\n",
    "        \n",
    "        #Here it will skip When ever counter value is odd \n",
    "        if counter%2 != 0:\n",
    "            continue\n",
    "            \n",
    "        lst.append(counter)\n",
    "        \n",
    "        #here loop will be terminated when the counter value is assigned as 20.. \n",
    "        if counter == 20:\n",
    "            break\n",
    "        counter += 1   \n",
    "    \n",
    "    \n",
    "    print(lst)       \n",
    "        \n",
    "    \n",
    "if __name__ == \"__main__\":\n",
    "    main()  \n",
    "       \n",
    "    "
   ]
  },
  {
   "cell_type": "code",
   "execution_count": null,
   "id": "88c8b491-052e-46a0-80f0-3adabe784892",
   "metadata": {},
   "outputs": [],
   "source": [
    "#If else :\n",
    "#22. Create a Python program that calculates the BMI (Body Mass Index) of a person based on their\n",
    "#    weight and height using if-else.\n",
    "\n",
    "def main():\n",
    "    \n",
    "    weight = float(input(\"Enter your weight (kg): \"))\n",
    "    height = float(input(\"Enter your height (m): \"))\n",
    "\n",
    "    bmi = weight / (height * height)\n",
    "\n",
    "    \n",
    "    if bmi < 18.5:\n",
    "        category = \"underweight\"\n",
    "    elif 18.5 <= bmi < 24.9:\n",
    "        category = \"normal weight\"\n",
    "    elif 25 <= bmi < 29.9:\n",
    "        category = \"overweight\"\n",
    "    else:\n",
    "        category = \"obese\"\n",
    "\n",
    "    print(f\"Your BMI is {bmi:.2f}, and you are categorized as {category}.\")\n",
    "    \n",
    "if __name__ == \"__main__\":\n",
    "    main() \n",
    "\n",
    "\n"
   ]
  },
  {
   "cell_type": "code",
   "execution_count": null,
   "id": "bd984c42-6eed-4258-97d3-5294e0ab2544",
   "metadata": {},
   "outputs": [],
   "source": [
    "#If else :\n",
    "#23. How can you use the \"filter()\" function with if-else statements to filter elements from a list?\n",
    "\n",
    "def is_even(num):\n",
    "    if num %2 == 0:\n",
    "        return True\n",
    "    else:\n",
    "        return False\n",
    "\n",
    "def main():\n",
    "    \n",
    "    '''-Filter function is used to filter the sequences or iterables as per required conditions.\n",
    "       -This function takes two arguments function and list..\n",
    "       -This function automatically iterates the iterables without using any loop and pick aprropriate\n",
    "        element which matches the required condition.\n",
    "       -Here we can use lambda function also instead of user defined function.\n",
    "       -So, if we want to use if-else statement in filter function. then we have to use it in user defuned function.\n",
    "        we cannot directly used in filter ().\n",
    "       -We can use \"if condition statement\" indirectly by using lambda..\n",
    "       '''\n",
    "    \n",
    "    lst = [2,3,1,4,8,67,5,6,10,13]\n",
    "    print(f\"Original List : {lst}\")\n",
    "    \n",
    "    \n",
    "    # by using Predefined Function ...the function is using if-else statement.\n",
    "    evenlst = list(filter(is_even,lst))\n",
    "    print(f\"\\nBy using predefined Function\\nEven numbers : {evenlst}\")\n",
    "    \n",
    "    # by using Lambda Function....Here we cannot use if-else\n",
    "    # Indirectly by using lambda we can use if Condition \n",
    "    lamblst = list(filter(lambda x: x%2==0,lst))\n",
    "    print(f\"\\nBy using Lambda Function\\nEven numbers : {lamblst}\")\n",
    "    \n",
    "if __name__ == \"__main__\":\n",
    "    main()   \n",
    "    \n",
    "    "
   ]
  },
  {
   "cell_type": "code",
   "execution_count": null,
   "id": "ff24f67e-cf18-43b2-97df-057a01c2e10d",
   "metadata": {},
   "outputs": [],
   "source": [
    "#If else :\n",
    "#24. Write a Python program to determine if a given number is prime or not using if-else.\n",
    "\n",
    "def is_prime(num):\n",
    "    if num < 2:\n",
    "        return False\n",
    "    else:\n",
    "        is_prime = True \n",
    "        for i in range(2, int(num**0.5) + 1):\n",
    "            if num % i == 0:\n",
    "                is_prime = False\n",
    "                break\n",
    "        return is_prime\n",
    "\n",
    "\n",
    "def main():\n",
    "    # Get the number from the user\n",
    "    num = int(input(\"Enter a number: \"))\n",
    "\n",
    "    if is_prime(num):\n",
    "        print(f\"{num} is a prime number.\")\n",
    "    else:\n",
    "        print(f\"{num} is not a prime number.\")\n",
    "\n",
    "        \n",
    "if __name__ == \"__main__\":\n",
    "    main() \n",
    "        \n"
   ]
  },
  {
   "cell_type": "code",
   "execution_count": 10,
   "id": "479ff608-8c63-4ce3-b065-c0bf2adea1f6",
   "metadata": {},
   "outputs": [
    {
     "name": "stdout",
     "output_type": "stream",
     "text": [
      "List : [2, 5, 3, 4, 9, 8, 6, 3, 9, 1, 11]\n",
      "\n",
      "By Using Predefined Fuction\n",
      "['even', 'odd', 'odd', 'even', 'odd', 'even', 'even', 'odd', 'odd', 'odd', 'odd']\n",
      "\n",
      "By Using Lambda Fuction\n",
      "[2, 5, 3, 4, 'greater > 5', 'greater > 5', 'greater > 5', 3, 'greater > 5', 1, 'greater > 5']\n"
     ]
    }
   ],
   "source": [
    "#Map :-\n",
    "#1. Explain the purpose of the `map()` function in Python and provide an example of how it can be\n",
    "#   used to apply a function to each element of an iterable.\n",
    "\n",
    "def even_odd(num):\n",
    "    if num%2==0:\n",
    "        return \"even\"\n",
    "    else:\n",
    "        return \"odd\"\n",
    "\n",
    "\n",
    "def main():\n",
    "    '''-map(): this function is used to apply the functionality of a fuction to the elements of iterables.\n",
    "       -behind the scene it uses loop mechanism you cant see explicitely in your code...\n",
    "       -implicetely it takes one by one element from input iterators and apply specified function to each element.\n",
    "       -We can pass User defined or lambda function...\n",
    "       -syntax- map(function,iterators)'''\n",
    "    \n",
    "    lst = [2,5,3,4,9,8,6,3,9,1,11]\n",
    "    print(f\"List : {lst}\")\n",
    "    '''Using Predefined Fuction'''\n",
    "    evenodd = list(map(even_odd,lst))\n",
    "    print(\"\\nBy Using Predefined Fuction\")\n",
    "    print(evenodd)\n",
    "    \n",
    "    '''By using Lambda function'''\n",
    "    lambdalst = list(map(lambda x : x if x<=5 else \"greater > 5\",lst))\n",
    "    print(\"\\nBy Using Lambda Fuction\")\n",
    "    print(lambdalst)\n",
    "    \n",
    "    \n",
    "\n",
    "if __name__ == \"__main__\":\n",
    "    main()     \n",
    "    "
   ]
  },
  {
   "cell_type": "code",
   "execution_count": 13,
   "id": "9a3ac8a8-77f7-4e38-8e22-61324ee976f4",
   "metadata": {},
   "outputs": [
    {
     "name": "stdout",
     "output_type": "stream",
     "text": [
      "List : [2, 5, 3, 4, 9, 8, 6, 3, 9, 1, 11]\n",
      "Square List : [4, 25, 9, 16, 81, 64, 36, 9, 81, 1, 121]\n"
     ]
    }
   ],
   "source": [
    "#Map :-\n",
    "#2. Write a Python program that uses the `map()` function to square each element of a list of\n",
    "#   numbers.\n",
    "\n",
    "def main():\n",
    "    lst = [2,5,3,4,9,8,6,3,9,1,11]\n",
    "    print(f\"List : {lst}\")\n",
    "    \n",
    "    sqr_lst = list(map(lambda x : x**2,lst))\n",
    "    print(f\"Square List :\",sqr_lst)\n",
    "    \n",
    "if __name__ == \"__main__\":\n",
    "    main()     \n",
    "        "
   ]
  },
  {
   "cell_type": "code",
   "execution_count": 20,
   "id": "020b4a42-49f0-42bb-bd43-827619370d5f",
   "metadata": {},
   "outputs": [
    {
     "name": "stdout",
     "output_type": "stream",
     "text": [
      "Original List:- [2, 5, 3, 4, 9, 8, 6, 3, 9, 1, 11]\n",
      "\n",
      "List Comprehension..\n",
      "[25, 9, 81, 9, 81, 1, 121]\n",
      "\n",
      "Map Function..\n",
      "mapped list using lambda:  ['even', 25, 9, 'even', 81, 'even', 'even', 9, 81, 1, 121]\n",
      "mapped tuple using user defined :  (4, 25, 9, 16, 729, 512, 216, 9, 729, 1, 1331)\n"
     ]
    }
   ],
   "source": [
    "#Map :-\n",
    "#3. How does the `map()` function differ from a list comprehension in Python, and when would you\n",
    "#   choose one over the other?\n",
    "\n",
    "def main():\n",
    "    '''-List comprehension and map() fuction both are used to transform elements into a iterable types (list,tuple,etc..).\n",
    "       -Only the difference is in syntaxtual form...\n",
    "       -list Comprehension:-The syntax is concise and declarative which specify both logic and iterables in one line expression.\n",
    "                            -In list comprehension we can use if else and loop also..\n",
    "                            syntax : result = [expression for item in iterable]\n",
    "                            -It is used for transform the element into list.\n",
    "                            -It is used for create a list or other iterables by applying simple transformation..\n",
    "                            -In list comprehension we cannot apply complex functionality to elements...\n",
    "                            -Here we dont want to use type-casting functions like list(), tuple(), set(), etc.. by default it gives a list type data.\n",
    "                            -It does not take any iterable as an argument. the comprehension is one line logical expression to create a list.\n",
    "                            -That comrehension expression is more understandable than map function.\n",
    "                            -here you can skip any element according to condition...\n",
    "                            -Never take any function as an argument....\n",
    "       \n",
    "       -map() Function():-  -In map fun it takes function as an first argument and iterable as an second argument.\n",
    "                            -syntax: map(function,iterables)\n",
    "                            -It is used transform one by one element from list.\n",
    "                            -I can used to apply complex functionality to iterables element. it can take user defined function also. \n",
    "                             and u can use lambda function also.\n",
    "                            - Here we cannot use if-else directly, so to use if-else you have define it into in user defined function or \n",
    "                              in lambda function.\n",
    "                            -also we dont want to use loop explicetly because internally it iterates over the list or other iterables sequence.\n",
    "                              behind the scene it uses loop mechanism..\n",
    "                            -here we cannot use range function to create a completely new list. it works only on existing list or iterables.\n",
    "                            -here to use complex logic you can define a user define function where you can use a complex logical code.\n",
    "                            -map function never skip any element from iterables..\n",
    "                            \n",
    "       Both are almost same to use the only defference in syntax and usecase and  also in readibility of expression..'''\n",
    "\n",
    "    lst = [2,5,3,4,9,8,6,3,9,1,11]\n",
    "    print(f\"Original List:- {lst}\")\n",
    "    print(\"\\nList Comprehension..\")\n",
    "    lst2 = [x**2 for x in lst if x%2!=0]\n",
    "    print(lst2)\n",
    "    \n",
    "    \n",
    "    #mapped list  using Lambda function\n",
    "    print(\"\\nMap Function..\")\n",
    "    lst3 = list(map(lambda x : x**2 if x%2!=0 else \"even\",lst))\n",
    "    print(\"mapped list using lambda: \",lst3)\n",
    "    \n",
    "    #Defing a user defined function..\n",
    "    def sqr(num):\n",
    "        if num <=5:\n",
    "            return num**2\n",
    "        else:\n",
    "            return num**3\n",
    "    \n",
    "    #mapped tuple using user defined function\n",
    "    lst4 = tuple(map(sqr,lst))\n",
    "    print(\"mapped tuple using user defined : \",lst4)\n",
    "    \n",
    "    \n",
    "if __name__ == \"__main__\":\n",
    "    main()     \n",
    "        \n",
    "\n"
   ]
  },
  {
   "cell_type": "code",
   "execution_count": 4,
   "id": "73fade99-d16f-425c-a65f-48e86800fff0",
   "metadata": {},
   "outputs": [
    {
     "name": "stdout",
     "output_type": "stream",
     "text": [
      "Original List : ['sagar', 'ashish', 'satyashil', 'abhi', 'ashu']\n",
      "Converted to uppercase : ['SAGAR', 'ASHISH', 'SATYASHIL', 'ABHI', 'ASHU']\n"
     ]
    }
   ],
   "source": [
    "#Map :-\n",
    "#4. Create a Python program that uses the `map()` function to convert a list of names to uppercase.\n",
    "\n",
    "def main():\n",
    "    lst = [\"sagar\",\"ashish\",\"satyashil\",\"abhi\",\"ashu\"]\n",
    "    print(f\"Original List : {lst}\")\n",
    "    upperlst = list(map(lambda x:x.upper(),lst))\n",
    "    print(f\"Converted to uppercase : {upperlst}\")\n",
    "    \n",
    "\n",
    "\n",
    "if __name__ == \"__main__\":\n",
    "    main() \n",
    "\n",
    "\n"
   ]
  },
  {
   "cell_type": "code",
   "execution_count": 6,
   "id": "7f77ea6b-258f-42f5-866f-ef9e8fa8c807",
   "metadata": {},
   "outputs": [
    {
     "name": "stdout",
     "output_type": "stream",
     "text": [
      "Original List : ['sagar', 'ashish', 'satyashil', 'abhi', 'ashu']\n",
      "List of length : [5, 6, 9, 4, 4]\n"
     ]
    }
   ],
   "source": [
    "#Map :-\n",
    "#5. Write a Python program that uses the `map()` function to calculate the length of each word in a\n",
    "#   list of strings\n",
    "\n",
    "def main():\n",
    "    lst = [\"sagar\",\"ashish\",\"satyashil\",\"abhi\",\"ashu\"]\n",
    "    print(f\"Original List : {lst}\")\n",
    "    lenlst = list(map(lambda x:len(x),lst))\n",
    "    print(f\"List of length : {lenlst}\")\n",
    "    \n",
    "\n",
    "\n",
    "if __name__ == \"__main__\":\n",
    "    main() \n",
    "    "
   ]
  },
  {
   "cell_type": "code",
   "execution_count": 8,
   "id": "691e792f-9e4c-4a3e-b6c5-3e96350185eb",
   "metadata": {},
   "outputs": [
    {
     "name": "stdout",
     "output_type": "stream",
     "text": [
      "list1 = [2, 5, 4, 8]\n",
      "List2 =[5, 8, 9, 1]\n",
      "List3 = [4, 3, 8, 1] \n",
      "Multiplied List of 3 list: [40, 120, 288, 8]\n"
     ]
    }
   ],
   "source": [
    "#Map :-\n",
    "#6. How can you use the `map()` function to apply a custom function to elements of multiple lists\n",
    "#   simultaneously in Python?\n",
    "\n",
    "def customfunc(lst1, lst2, lst3):\n",
    "    result = lst1 * lst2 * lst3\n",
    "    return result\n",
    "\n",
    "def main():\n",
    "    lst1 = [2,5,4,8]\n",
    "    lst2 = [5,8,9,1]\n",
    "    lst3 = [4,3,8,1]\n",
    "    print(f\"list1 = {lst1}\\nList2 ={lst2}\\nList3 = {lst3} \")\n",
    "    lst4 = list(map(customfunc,lst1,lst2,lst3))\n",
    "    print(f\"Multiplied List of 3 list: {lst4}\")\n",
    "\n",
    "\n",
    "if __name__ == \"__main__\":\n",
    "    main() \n"
   ]
  },
  {
   "cell_type": "code",
   "execution_count": 10,
   "id": "1e633eb4-8ebc-4973-9520-32d5140bf7b3",
   "metadata": {},
   "outputs": [
    {
     "name": "stdout",
     "output_type": "stream",
     "text": [
      "Celsius Tempreature List : [34, 5, 9, 45, 2, 32]\n",
      "Fahrenheit converted List : [93.2, 41.0, 48.2, 113.0, 35.6, 89.6]\n"
     ]
    }
   ],
   "source": [
    "#Map :-\n",
    "#7. Create a Python program that uses `map()` to convert a list of temperatures from Celsius to\n",
    "#   Fahrenheit.\n",
    "\n",
    "def main():\n",
    "    celsius = [34,5,9,45,2,32]\n",
    "    print(f\"Celsius Tempreature List : {celsius}\")\n",
    "    \n",
    "    \n",
    "    fahrenheit = list(map(lambda x: x * 1.8 + 32,celsius))\n",
    "    print(f\"Fahrenheit converted List : {fahrenheit}\")\n",
    "\n",
    "if __name__ == \"__main__\":\n",
    "    main() \n",
    "\n"
   ]
  },
  {
   "cell_type": "code",
   "execution_count": 11,
   "id": "911a38e0-ba85-4878-bbd9-1d6d91e7774b",
   "metadata": {},
   "outputs": [
    {
     "name": "stdout",
     "output_type": "stream",
     "text": [
      "Floating list: [3.5, 7.0, 43.3, 78, 21, 2, 2.8]\n",
      "Round list : [4, 7, 43, 78, 21, 2, 3]\n"
     ]
    }
   ],
   "source": [
    "#Map :-\n",
    "#8. Write a Python program that uses the `map()` function to round each element of a list of\n",
    "#   floating-point numbers to the nearest integer.\n",
    "\n",
    "def main():\n",
    "    lst = [3.5,7.0,43.3,78,21,2,2.8]\n",
    "    print(f\"Floating list: {lst}\")\n",
    "    \n",
    "    rounded_lst = list(map(round,lst))\n",
    "    print(f\"Round list : {rounded_lst}\")\n",
    "\n",
    "if __name__ == \"__main__\":\n",
    "    main()\n",
    "\n"
   ]
  },
  {
   "cell_type": "code",
   "execution_count": 13,
   "id": "8ca96e66-4e94-4ad8-ab5f-c002ba560fb9",
   "metadata": {},
   "outputs": [
    {
     "name": "stdout",
     "output_type": "stream",
     "text": [
      "Addition of all elements: 15\n"
     ]
    }
   ],
   "source": [
    "#Reduce :-\n",
    "#1. What is the `reduce()` function in Python, and what module should you import to use it? Provide\n",
    "#   an example of its basic usage.\n",
    "\n",
    "import functools\n",
    "\n",
    "def main():\n",
    "    \n",
    "    '''reduce: -The reduce function takes an iterables like list, tuple, etc.. \n",
    "                 and apply the logic on overall iterables and gives a single list.\n",
    "               -reduce function is a part of functools package So before using we have to import it..'''\n",
    "\n",
    "    \n",
    "    numbers = [1, 2, 3, 4, 5]\n",
    "    addition = functools.reduce(lambda x, y: x + y, numbers)\n",
    "\n",
    "    print(\"Addition of all elements:\", addition)\n",
    "\n",
    "if __name__ == \"__main__\":\n",
    "    main()\n"
   ]
  },
  {
   "cell_type": "code",
   "execution_count": 14,
   "id": "519f5869-b099-4128-9d86-be69d15e3921",
   "metadata": {},
   "outputs": [
    {
     "name": "stdout",
     "output_type": "stream",
     "text": [
      "Product of all elements: 120\n"
     ]
    }
   ],
   "source": [
    "#Reduce :-\n",
    "#2. Write a Python program that uses the `reduce()` function to find the product of all elements in a\n",
    "#   list.\n",
    "\n",
    "\n",
    "import functools\n",
    "\n",
    "def main():\n",
    "    \n",
    "    numbers = [1, 2, 3, 4, 5]\n",
    "    product = functools.reduce(lambda x, y: x * y, numbers)\n",
    "\n",
    "    print(\"Product of all elements:\", product)\n",
    "if __name__ == \"__main__\":\n",
    "    main()\n"
   ]
  },
  {
   "cell_type": "code",
   "execution_count": 16,
   "id": "4188c86f-eaf8-4de7-b2ea-61e78f05e328",
   "metadata": {},
   "outputs": [
    {
     "name": "stdout",
     "output_type": "stream",
     "text": [
      "List : [1, 2, 3, 4, 5]\n",
      "Max value :  5\n"
     ]
    }
   ],
   "source": [
    "#Reduce :-\n",
    "#3. Create a Python program that uses `reduce()` to find the maximum element in a list of numbers.\n",
    "\n",
    "import functools\n",
    "def main():\n",
    "    numbers = [1, 2, 3, 4, 5]\n",
    "    print(f\"List : {numbers}\")\n",
    "    maximum = functools.reduce(lambda a,b: a if a>b else b,numbers)\n",
    "    print(\"Max value : \",maximum)\n",
    "\n",
    "if __name__ == \"__main__\":\n",
    "    main()\n",
    "\n"
   ]
  },
  {
   "cell_type": "code",
   "execution_count": 17,
   "id": "1e0da981-5b02-4212-ba96-40021d6bfc60",
   "metadata": {},
   "outputs": [
    {
     "name": "stdout",
     "output_type": "stream",
     "text": [
      "string list : ['sagar', 'ashish', 'satyashil', 'abhi', 'ashu']\n",
      "Final String : sagar ashish satyashil abhi ashu\n"
     ]
    }
   ],
   "source": [
    "#Reduce :-\n",
    "#4. How can you use the `reduce()` function to concatenate a list of strings into a single string?\n",
    "\n",
    "import functools\n",
    "\n",
    "def main():\n",
    "    lst = [\"sagar\",\"ashish\",\"satyashil\",\"abhi\",\"ashu\"]\n",
    "    print(f\"string list : {lst}\")\n",
    "    string = functools.reduce(lambda a,b: a+\" \"+b,lst)\n",
    "    print(f\"Final String : {string}\")\n",
    "\n",
    "if __name__ == \"__main__\":\n",
    "    main()\n",
    "\n"
   ]
  },
  {
   "cell_type": "code",
   "execution_count": 18,
   "id": "04f8844c-4eb7-47cf-bf03-be1d732d3bf2",
   "metadata": {},
   "outputs": [
    {
     "name": "stdin",
     "output_type": "stream",
     "text": [
      "Enter the Number :  5\n"
     ]
    },
    {
     "name": "stdout",
     "output_type": "stream",
     "text": [
      "Factorial of 5 : 120\n"
     ]
    }
   ],
   "source": [
    "#Reduce :-\n",
    "#5. Write a Python program that calculates the factorial of a number using the `reduce()` function.\n",
    "\n",
    "import functools\n",
    "\n",
    "def main():\n",
    "    \n",
    "    num = int(input(\"Enter the Number : \"))\n",
    "    \n",
    "    fact = functools.reduce(lambda p,q : p*q,[x for x in range(1,num+1)])\n",
    "    \n",
    "    print(f\"Factorial of {num} : {fact}\")\n",
    "\n",
    "if __name__ == \"__main__\":\n",
    "    main()\n",
    "\n",
    "\n",
    "\n"
   ]
  },
  {
   "cell_type": "code",
   "execution_count": 19,
   "id": "864647b1-a99b-4faa-9d23-6b6198352078",
   "metadata": {},
   "outputs": [
    {
     "name": "stdout",
     "output_type": "stream",
     "text": [
      "GCD of the numbers: 12\n"
     ]
    }
   ],
   "source": [
    "#Reduce :-\n",
    "#6. Create a Python program that uses `reduce()` to find the GCD (Greatest Common Divisor) of a list\n",
    "#   of numbers.\n",
    "\n",
    "import functools\n",
    "\n",
    "def gcd(a, b):\n",
    "        while b:\n",
    "            a, b = b, a % b\n",
    "        return a\n",
    "\n",
    "def main():\n",
    "\n",
    "    \n",
    "    numbers = [48, 36, 24, 12]\n",
    "    gcd_result = functools.reduce(gcd, numbers)\n",
    "\n",
    "    print(\"GCD of the numbers:\", gcd_result)\n",
    "\n",
    "\n",
    "if __name__ == \"__main__\":\n",
    "    main()\n",
    "\n",
    "\n",
    "\n",
    "\n"
   ]
  },
  {
   "cell_type": "code",
   "execution_count": 20,
   "id": "7a416d04-d007-4002-8e3a-5fe996faf37b",
   "metadata": {},
   "outputs": [
    {
     "name": "stdin",
     "output_type": "stream",
     "text": [
      "Enter the number of 4 to 5 digits :  6743\n"
     ]
    },
    {
     "name": "stdout",
     "output_type": "stream",
     "text": [
      "Number: 6743\n",
      "Sum of digits: 20\n"
     ]
    }
   ],
   "source": [
    "#Reduce :-\n",
    "#7. Write a Python program that uses the `reduce()` function to find the sum of the digits of a given\n",
    "#   number.\n",
    "\n",
    "\n",
    "import functools\n",
    "\n",
    "\n",
    "def main():\n",
    "    number = int(input(\"Enter the number of 4 to 5 digits : \"))\n",
    "    digits = [int(digit) for digit in str(number)]\n",
    "\n",
    "    \n",
    "    sum_of_digits = functools.reduce(lambda x,y : x+y, digits)\n",
    "\n",
    "    print(\"Number:\", number)\n",
    "    print(\"Sum of digits:\", sum_of_digits)\n",
    "\n",
    "\n",
    "if __name__ == \"__main__\":\n",
    "    main()\n",
    "\n",
    "\n",
    "\n"
   ]
  },
  {
   "cell_type": "code",
   "execution_count": 24,
   "id": "d4f0dba5-1b1e-4b56-a4a0-fe526c18a2a4",
   "metadata": {},
   "outputs": [
    {
     "name": "stdout",
     "output_type": "stream",
     "text": [
      "List : [3, 6, 4, 2, 9, 8, 10, 7, 1]\n",
      "\n",
      "Filtered odd no. list : [3, 9, 7, 1]\n"
     ]
    }
   ],
   "source": [
    "#Filter :-\n",
    "#1. Explain the purpose of the `filter()` function in Python and provide an example of how it can be\n",
    "#   used to filter elements from an iterable.\n",
    "\n",
    "\n",
    "def main():\n",
    "    \n",
    "    '''filter : -this function is used to filter the elements of list or other iterables on the basis of condition.\n",
    "                -the filter function takes two arguments i.e. function and iterables..\n",
    "                -syntax = filter(function,iterables)\n",
    "                -The filter function works on the basis of boolean values.\n",
    "                -the function should return the boolean values which decide that element should store or not.\n",
    "                -here you can use lambda function or user defined function..'''\n",
    "\n",
    "\n",
    "    lst = [3,6,4,2,9,8,10,7,1]\n",
    "    print(f\"List : {lst}\")\n",
    "    odd = list(filter(lambda x : x%2!=0,lst))\n",
    "    print(f\"\\nFiltered odd no. list : {odd}\")\n",
    "\n",
    "if __name__ == \"__main__\":\n",
    "    main()\n",
    "\n"
   ]
  },
  {
   "cell_type": "code",
   "execution_count": 23,
   "id": "57b6344c-580b-431d-90e4-142fadd7ecfa",
   "metadata": {},
   "outputs": [
    {
     "name": "stdout",
     "output_type": "stream",
     "text": [
      "List : [3, 6, 4, 2, 9, 8, 10, 7, 1]\n",
      "\n",
      "Filtered even no. list : [6, 4, 2, 8, 10]\n"
     ]
    }
   ],
   "source": [
    "#Filter :-\n",
    "#2. Write a Python program that uses the `filter()` function to select even numbers from a list of\n",
    "#   integers.\n",
    "\n",
    "def main():\n",
    "    \n",
    "    lst = [3,6,4,2,9,8,10,7,1]\n",
    "    print(f\"List : {lst}\")\n",
    "    even = list(filter(lambda x : x%2==0,lst))\n",
    "    print(f\"\\nFiltered even no. list : {even}\")\n",
    "\n",
    "if __name__ == \"__main__\":\n",
    "    main()\n",
    "    "
   ]
  },
  {
   "cell_type": "code",
   "execution_count": 25,
   "id": "69c27587-0eca-47cb-91d6-547d4d4a34fd",
   "metadata": {},
   "outputs": [
    {
     "name": "stdout",
     "output_type": "stream",
     "text": [
      "Names list : ['sagar', 'amit', 'shubh', 'akash', 'sahil', 'swaroop']\n",
      "Filtered List : ['sagar', 'shubh', 'sahil', 'swaroop']\n"
     ]
    }
   ],
   "source": [
    "#Filter :-\n",
    "#3. Create a Python program that uses the `filter()` function to select names that start with a specific\n",
    "#   letter from a list of strings.\n",
    "\n",
    "def main():\n",
    "    lst = ['sagar','amit','shubh','akash','sahil','swaroop']\n",
    "    print(f\"Names list : {lst}\")\n",
    "    \n",
    "    snamelst = list(filter(lambda x : x[0]=='s',lst))\n",
    "    print(f\"Filtered List : {snamelst}\")\n",
    "\n",
    "if __name__ == \"__main__\":\n",
    "    main()\n"
   ]
  },
  {
   "cell_type": "code",
   "execution_count": 28,
   "id": "941a7441-0067-4cbe-a1b0-98c2f7797a21",
   "metadata": {},
   "outputs": [
    {
     "name": "stdout",
     "output_type": "stream",
     "text": [
      "List : [3, 6, 23, 4, 2, 34, 9, 8, 67, 10, 7, 1]\n",
      "Peime Numbers : [3, 23, 2, 9, 67, 7]\n"
     ]
    }
   ],
   "source": [
    "#Filter :-\n",
    "#4. Write a Python program that uses the `filter()` function to select prime numbers from a list of\n",
    "#   integers.\n",
    "\n",
    "def is_prime(number):\n",
    "    if number <= 1:\n",
    "        return False \n",
    "    elif number <= 3:\n",
    "        return True   \n",
    "    for i in range(3,number):\n",
    "        if number%2==0:\n",
    "            return False\n",
    "    else:\n",
    "        return True\n",
    "\n",
    "\n",
    "def main():\n",
    "    lst = [3,6,23,4,2,34,9,8,67,10,7,1]\n",
    "    print(f\"List : {lst}\")\n",
    "\n",
    "    prime_num = list(filter(is_prime,lst))\n",
    "    print(f\"Peime Numbers : {prime_num}\")\n",
    "\n",
    "if __name__ == \"__main__\":\n",
    "    main()\n",
    "\n",
    "\n",
    "\n",
    "\n"
   ]
  },
  {
   "cell_type": "code",
   "execution_count": 31,
   "id": "178c80bb-d045-4b4f-9509-d4be02f9660d",
   "metadata": {},
   "outputs": [
    {
     "name": "stdout",
     "output_type": "stream",
     "text": [
      "Original List: [1, None, 2, 3, None, 4, None, 5]\n",
      "Filtered List: [1, 2, 3, 4, 5]\n"
     ]
    }
   ],
   "source": [
    "#Filter :-\n",
    "#5. How can you use the `filter()` function to remove None values from a list in Python?\n",
    "\n",
    "def not_none(value):\n",
    "        return value is not None\n",
    "\n",
    "def main():\n",
    "    \n",
    "    my_list = [1, None, 2, 3, None, 4, None, 5]\n",
    "\n",
    "    filtered_list = list(filter(not_none, my_list))\n",
    "\n",
    "    print(\"Original List:\", my_list)\n",
    "    print(\"Filtered List:\", filtered_list)\n",
    "\n",
    "if __name__ == \"__main__\":\n",
    "    main()\n",
    "\n"
   ]
  },
  {
   "cell_type": "code",
   "execution_count": 32,
   "id": "1ec0649f-1520-4915-a1ee-49a603e17d77",
   "metadata": {},
   "outputs": [
    {
     "name": "stdout",
     "output_type": "stream",
     "text": [
      "List : ['pwskills', 'data-science', 'user', 'fullstack', 'vivo', 'words']\n",
      "\n",
      "Filtered List : ['pwskills', 'data-science', 'fullstack']\n"
     ]
    }
   ],
   "source": [
    "#Filter :-\n",
    "#6. Create a Python program that uses `filter()` to select words longer than a certain length from a\n",
    "#   list of strings.\n",
    "\n",
    "\n",
    "def main():\n",
    "    \n",
    "    lst = ['pwskills','data-science','user','fullstack','vivo','words']\n",
    "    specified_length = 5\n",
    "    \n",
    "    print(f\"List : {lst}\")\n",
    "    filter_lst = list(filter(lambda x : len(x) > specified_length,lst))\n",
    "    print(f\"\\nFiltered List : {filter_lst}\")\n",
    "\n",
    "if __name__ == \"__main__\":\n",
    "    main()\n",
    "    \n",
    "    "
   ]
  },
  {
   "cell_type": "code",
   "execution_count": 33,
   "id": "04bb2481-1ec4-4eb0-95eb-173e407504e1",
   "metadata": {},
   "outputs": [
    {
     "name": "stdout",
     "output_type": "stream",
     "text": [
      "List : [12, 56, 34, 17, 13, 8, 9, 87, 67, 90]\n",
      "\n",
      "Filtered List : [56, 34, 17, 87, 67, 90]\n"
     ]
    }
   ],
   "source": [
    "#Filter :-\n",
    "#7. Write a Python program that uses the `filter()` function to select elements greater than a\n",
    "#   specified threshold from a list of values.\n",
    "\n",
    "def main():\n",
    "    \n",
    "    lst = [12,56,34,17,13,8,9,87,67,90]\n",
    "    specified_range = 15\n",
    "    \n",
    "    print(f\"List : {lst}\")\n",
    "    filter_lst = list(filter(lambda x : x > specified_range,lst))\n",
    "    print(f\"\\nFiltered List : {filter_lst}\")\n",
    "\n",
    "if __name__ == \"__main__\":\n",
    "    main()\n",
    "\n",
    "\n",
    "\n"
   ]
  },
  {
   "cell_type": "code",
   "execution_count": 1,
   "id": "931d5fe9-65f9-4e66-9d0e-ca5ab0e93c96",
   "metadata": {},
   "outputs": [
    {
     "name": "stdin",
     "output_type": "stream",
     "text": [
      "Enter the Number :  5\n"
     ]
    },
    {
     "name": "stdout",
     "output_type": "stream",
     "text": [
      "Tribonacci of Number 5: 7\n"
     ]
    }
   ],
   "source": [
    "#Recursion:-\n",
    "#1. Explain the concept of recursion in Python. How does it differ from iteration?\n",
    "\n",
    "def tribonacci(n):\n",
    "    \n",
    "    if n == 0:\n",
    "        return 0\n",
    "    elif n == 1 or n == 2:\n",
    "        return 1\n",
    "    else:\n",
    "        return tribonacci(n - 1) + tribonacci(n - 2) + tribonacci(n - 3)\n",
    "\n",
    "def main():\n",
    "    '''-Recursion and iteration are two fundamental programming concepts used to repeat a set of instructions\n",
    "        in Python and other programming languages.\n",
    "       1.Recurrsion : Recurrsion is a programming technique where a function calls itself to solve a problem \n",
    "         and get a desired output..\n",
    "         -It basically works on the two componants base case and recurrsive case.\n",
    "         -A base case is a condition that defines when the recursion should stop. When the base case is met,\n",
    "          the function returns a result without making any further recursive calls. Without a base case, \n",
    "          the recursion would continue indefinitely, leading to a stack overflow.\n",
    "         -In the recursive case, the function calls itself with a modified input, typically moving closer\n",
    "          to the base case. Each recursive call reduces the original problem into a smaller,\n",
    "          more manageable subproblem.\n",
    "        Difference : \n",
    "       -In recursion, control flows through function calls, and each call pushes a new frame onto the call stack. \n",
    "        These frames are stored in memory until the base case is reached.  \n",
    "       -And In iteration, control flows through loops, and there is typically no call stack involved. \n",
    "        Iteration uses a loop variable to keep track of progress.\n",
    "       -Recursion can consume more memory compared to iteration \n",
    "       -Recursive solutions can sometimes be more intuitive and closer to the problem's mathematical or natural definition.\n",
    "       -Recursive solutions can be less efficient than iterative solutions for some problems due to the overhead of \n",
    "        function calls and stack management.'''\n",
    "    \n",
    "    num = int(input(\"Enter the Number : \"))\n",
    "    print(f\"Tribonacci of Number {num}: {tribonacci(num)}\")\n",
    "\n",
    "if __name__ == \"__main__\":\n",
    "    main()\n",
    "\n",
    "    \n",
    "\n",
    "\n",
    "\n"
   ]
  },
  {
   "cell_type": "code",
   "execution_count": 1,
   "id": "d462737c-b488-4148-b360-3637f5db6ddb",
   "metadata": {},
   "outputs": [
    {
     "name": "stdin",
     "output_type": "stream",
     "text": [
      "Enter the Number :  5\n"
     ]
    },
    {
     "name": "stdout",
     "output_type": "stream",
     "text": [
      "Factorial of Number : 120\n"
     ]
    }
   ],
   "source": [
    "#Recursion:-\n",
    "#2. Write a Python program to calculate the factorial of a number using recursion.\n",
    "\n",
    "def fact(num):\n",
    "    if num == 1:\n",
    "        return 1\n",
    "    else:\n",
    "        return num * fact(num-1)\n",
    "\n",
    "\n",
    "def main():\n",
    "    \n",
    "    num = int(input(\"Enter the Number : \"))\n",
    "    print(f\"Factorial of Number : {fact(num)}\")\n",
    "\n",
    "if __name__ == \"__main__\":\n",
    "    main()\n",
    "\n"
   ]
  },
  {
   "cell_type": "code",
   "execution_count": 2,
   "id": "0dac4f36-5d82-407a-af17-9708c013b319",
   "metadata": {},
   "outputs": [
    {
     "name": "stdin",
     "output_type": "stream",
     "text": [
      "Enter the term number :  6\n"
     ]
    },
    {
     "name": "stdout",
     "output_type": "stream",
     "text": [
      "The 6th term of Fibonacci : 8\n"
     ]
    }
   ],
   "source": [
    "#Recursion:-\n",
    "#3. Create a recursive Python function to find the nth Fibonacci number.\n",
    "\n",
    "def fibonacci(num):\n",
    "    if num<=0:\n",
    "        return 0\n",
    "    elif num == 1:\n",
    "        return 1\n",
    "    else:\n",
    "        return fibonacci(num-1)+fibonacci(num-2)\n",
    "\n",
    "def main():\n",
    "    \n",
    "    num = int(input(\"Enter the term number : \"))\n",
    "    print(f\"The {num}th term of Fibonacci : {fibonacci(num)}\")\n",
    "\n",
    "if __name__ == \"__main__\":\n",
    "    main()   \n",
    "    \n",
    "    "
   ]
  },
  {
   "cell_type": "code",
   "execution_count": 2,
   "id": "b710b7e4-0ee2-49a5-84c8-e4223dcf7a9c",
   "metadata": {},
   "outputs": [
    {
     "name": "stdout",
     "output_type": "stream",
     "text": [
      "List : [2, 6, 3, 8, 5, 7]\n",
      "Summation of List : 31\n"
     ]
    }
   ],
   "source": [
    "#Recursion:-\n",
    "#4. Write a recursive Python function to calculate the sum of all elements in a list.\n",
    "\n",
    "def recurrsive_sum(lst):\n",
    "    \n",
    "    if not lst:\n",
    "        return 0\n",
    "    else:\n",
    "        return lst[0] + recurrsive_sum(lst[1:])\n",
    "\n",
    "def main():\n",
    "\n",
    "    lst = [2,6,3,8,5,7]\n",
    "    print(f\"List : {lst}\")\n",
    "    print(f\"Summation of List : {recurrsive_sum(lst)}\")\n",
    "    \n",
    "if __name__ == \"__main__\":\n",
    "    main() "
   ]
  },
  {
   "cell_type": "code",
   "execution_count": 1,
   "id": "3ac9b42f-535b-4b15-8665-349aa9381761",
   "metadata": {},
   "outputs": [
    {
     "name": "stdout",
     "output_type": "stream",
     "text": [
      "The 10-th Fibonacci number is: 55\n"
     ]
    }
   ],
   "source": [
    "#Recursion:-\n",
    "#5. How can you prevent a recursive function from running indefinitely, causing a stack overflow\n",
    "#   error?\n",
    "\n",
    "\n",
    "def main():\n",
    "    '''-The recurrsive function is a programming concept where a function call itself and to perform a task.\n",
    "    -But there are several rules to follow while creating a recurrsive function otherwise the function \n",
    "     shall be continuously runs indefinitely..and then it may occure stack overflow error..\n",
    "    -Rules:-\n",
    "    1. The Recurrsive function must have Base case, which describe the condition to stop the recurrsion...\n",
    "       when the base case is  met the function should return a result without making making a recurrsive call.\n",
    "    2.  Ensure that the recursive function makes progress toward the base case with each recursive call.    \n",
    "    3. Use debugging techniques to trace the execution progress of function. you can use print statements or a debugger.\n",
    "    4. Recheck your recurrsive logic to ensure the working approaches the base case.\n",
    "    5. Use recurrsion only whenever required otherwise use loops where recursion isn't strictly necessary...\n",
    "    6. In dynamic programming problems, you can use memoization to store and reuse intermediate \n",
    "       results to avoid redundant recursive calls.'''\n",
    "    \n",
    "    # Example of memoization with Fibonacci numbers\n",
    "    def fibonacci(n, memo={}):\n",
    "        if n in memo:\n",
    "            return memo[n]\n",
    "        if n <= 2:\n",
    "            return 1\n",
    "        memo[n] = fibonacci(n - 1, memo) + fibonacci(n - 2, memo)\n",
    "        return memo[n]\n",
    "\n",
    "    n = 10\n",
    "    result = fibonacci(n)\n",
    "    print(f\"The {n}-th Fibonacci number is: {result}\")\n",
    "\n",
    "if __name__ == \"__main__\":\n",
    "    main() \n",
    "    \n",
    "    "
   ]
  },
  {
   "cell_type": "code",
   "execution_count": 2,
   "id": "f5a62dec-b846-4dee-a5c4-4eff95f2cf8f",
   "metadata": {},
   "outputs": [
    {
     "name": "stdout",
     "output_type": "stream",
     "text": [
      "The GCD of 48 and 18 is: 6\n"
     ]
    }
   ],
   "source": [
    "#Recursion:-\n",
    "#6. Create a recursive Python function to find the greatest common divisor (GCD) of two numbers\n",
    "#   using the Euclidean algorithm.\n",
    "\n",
    "def gcd(a, b):\n",
    "    if b == 0:\n",
    "        return a\n",
    "    else:\n",
    "        return gcd(b, a % b)\n",
    "\n",
    "def main():  \n",
    "    \n",
    "    num1 = 48\n",
    "    num2 = 18\n",
    "    result = gcd(num1, num2)\n",
    "    print(f\"The GCD of {num1} and {num2} is: {result}\")\n",
    "\n",
    "\n",
    "if __name__ == \"__main__\":\n",
    "    main() \n",
    "\n",
    "\n"
   ]
  },
  {
   "cell_type": "code",
   "execution_count": 6,
   "id": "fdfed052-6115-409c-912c-372afb17891c",
   "metadata": {},
   "outputs": [
    {
     "name": "stdout",
     "output_type": "stream",
     "text": [
      "sllikswP\n"
     ]
    }
   ],
   "source": [
    "#Recursion:-\n",
    "#7. Write a recursive Python function to reverse a string.\n",
    "\n",
    "def stringrecurrsive(string):\n",
    "    if string[-1] == string:\n",
    "        return string\n",
    "    else:\n",
    "        return string[-1] + stringrecurrsive(string[:-1])\n",
    "\n",
    "\n",
    "def main():\n",
    "    \n",
    "    string = \"Pwskills\"\n",
    "    print(stringrecurrsive(string))\n",
    "\n",
    "if __name__ == \"__main__\":\n",
    "    main() \n"
   ]
  },
  {
   "cell_type": "code",
   "execution_count": 7,
   "id": "41480acf-05b6-45d4-90d6-b6e577d3f92e",
   "metadata": {},
   "outputs": [
    {
     "name": "stdout",
     "output_type": "stream",
     "text": [
      "2^5 is equal to 32\n"
     ]
    }
   ],
   "source": [
    "#Recursion:-\n",
    "#8. Create a recursive Python function to calculate the power of a number (x^n).\n",
    "\n",
    "def power(x, n):\n",
    "    if n == 0:\n",
    "        return 1\n",
    "    elif n < 0:\n",
    "        return 1 / power(x, -n)\n",
    "    else:\n",
    "        \n",
    "        return x * power(x, n - 1)\n",
    "\n",
    "\n",
    "def main():    \n",
    "    base = 2\n",
    "    exponent = 5\n",
    "    result = power(base, exponent)\n",
    "    print(f\"{base}^{exponent} is equal to {result}\")\n",
    "\n",
    "if __name__ == \"__main__\":\n",
    "    main()\n",
    "\n",
    "\n",
    "\n"
   ]
  },
  {
   "cell_type": "code",
   "execution_count": 1,
   "id": "4a6ee2f9-f65a-4f21-a0df-5659ce0a0165",
   "metadata": {},
   "outputs": [
    {
     "name": "stdout",
     "output_type": "stream",
     "text": [
      "abc\n",
      "acb\n",
      "bac\n",
      "bca\n",
      "cab\n",
      "cba\n"
     ]
    }
   ],
   "source": [
    "#Recursion:-\n",
    "#9. Write a recursive Python function to find all permutations of a given string.\n",
    "\n",
    "def find_permutations(input_string):\n",
    "    # Base case\n",
    "    if len(input_string) <= 1:\n",
    "        return [input_string]\n",
    "\n",
    "    permutations = []\n",
    "\n",
    "    \n",
    "    for i in range(len(input_string)):\n",
    "        \n",
    "        first_char = input_string[i]\n",
    "\n",
    "        \n",
    "        remaining_chars = input_string[:i] + input_string[i + 1:]\n",
    "\n",
    "        \n",
    "        for perm in find_permutations(remaining_chars):\n",
    "            permutations.append(first_char + perm)\n",
    "\n",
    "    return permutations\n",
    "\n",
    "def main(): \n",
    "    input_str = \"abc\"\n",
    "    permutations = find_permutations(input_str)\n",
    "    for perm in permutations:\n",
    "        print(perm)\n",
    "        \n",
    "if __name__ == \"__main__\":\n",
    "    main()\n"
   ]
  },
  {
   "cell_type": "code",
   "execution_count": 8,
   "id": "122726cd-bb34-4961-86d7-23750f44d595",
   "metadata": {},
   "outputs": [
    {
     "name": "stdin",
     "output_type": "stream",
     "text": [
      "Enter the String :  racecar\n"
     ]
    },
    {
     "name": "stdout",
     "output_type": "stream",
     "text": [
      "Yes. racecar is a Pallindrome string..\n"
     ]
    }
   ],
   "source": [
    "#Recursion:-\n",
    "#10. Write a recursive Python function to check if a string is a palindrome.\n",
    "\n",
    "def is_pallindrome(string):\n",
    "        if len(string) <=1:\n",
    "            return True\n",
    "        else:\n",
    "            if string[0] == string[-1]:\n",
    "                is_pallindrome(string[1:-2])\n",
    "                return True\n",
    "            else:\n",
    "                return False\n",
    "            \n",
    "def main():\n",
    "    \n",
    "    string = input(\"Enter the String : \").lower()\n",
    "    print(f\"Yes. {string} is a Pallindrome string..\"if is_pallindrome(string) else f\"No. {string} is not a Pallindrome string..\" )\n",
    "\n",
    "if __name__ == \"__main__\":\n",
    "    main()\n",
    "\n",
    "\n"
   ]
  },
  {
   "cell_type": "code",
   "execution_count": 10,
   "id": "53018d1b-760d-41be-b0b1-cd0f2ab1709d",
   "metadata": {},
   "outputs": [
    {
     "name": "stdout",
     "output_type": "stream",
     "text": [
      "[[1, 2, 3, 5, 4], [1, 2, 3, 5], [1, 2, 3, 4], [1, 2, 3], [1, 2, 5, 4], [1, 2, 5], [1, 2, 4], [1, 2], [1, 3, 5, 4], [1, 3, 5], [1, 3, 4], [1, 3], [1, 5, 4], [1, 5], [1, 4], [1], [2, 3, 5, 4], [2, 3, 5], [2, 3, 4], [2, 3], [2, 5, 4], [2, 5], [2, 4], [2], [3, 5, 4], [3, 5], [3, 4], [3], [5, 4], [5], [4], []]\n"
     ]
    }
   ],
   "source": [
    "#Recursion:-\n",
    "#11. Create a recursive Python function to generate all possible combinations of a list of elements.\n",
    "\n",
    "def generate_combinations(elements):\n",
    "    if len(elements) == 0:\n",
    "        return [[]]  # Base case: an empty list is the only combination\n",
    "    \n",
    "    first_element = elements[0]\n",
    "    rest_elements = elements[1:]\n",
    "    \n",
    "    \n",
    "    without_first = generate_combinations(rest_elements)\n",
    "    \n",
    "\n",
    "    with_first = [([first_element] + combo) for combo in without_first]\n",
    "    \n",
    "    \n",
    "    result = with_first + without_first\n",
    "    \n",
    "    return result\n",
    "\n",
    "\n",
    "def main():\n",
    "    \n",
    "    elements = [1, 2, 3,5,4]\n",
    "    combinations = generate_combinations(elements)\n",
    "    print(combinations)\n",
    "\n",
    "if __name__ == \"__main__\":\n",
    "    main()\n",
    "\n"
   ]
  },
  {
   "cell_type": "code",
   "execution_count": 2,
   "id": "0a515a67-e478-4262-8cab-58ae0270beea",
   "metadata": {},
   "outputs": [
    {
     "name": "stdout",
     "output_type": "stream",
     "text": [
      "Hello sushil..\n",
      "Good Morning sushil..\n",
      "Hello Universe..\n",
      "Welcome to the coding world..\n"
     ]
    }
   ],
   "source": [
    "#Basics of Functions:\n",
    "#1. What is a function in Python, and why is it used?\n",
    "\n",
    "'''Function is a reusable block of code that perform a specific task or set of task...\n",
    "   - suppose you want to perform a same task again and again so for that you have to write a same code multiple times.\n",
    "      So at that time we can use functions to code a same block. so that we can use it multiple times without\n",
    "      coding it multiple times.\n",
    "   - once you define a function then you can call it multiple times to perform.\n",
    "   - defining a function is efficient than writing a same code multiple times.\n",
    "   - function breaks down the code into smaller and understandable pattern. which encapsulate a perticular set of operations.\n",
    "   - Functions provide a level of abstraction. You can use a function without needing to understand its internal implementation details.\n",
    "     which reduces the error possibility.\n",
    "   -it also helps to organize the code logically.\n",
    "   - function has types which varries on the basis of arguments.'''\n",
    "\n",
    "#parameterised but no return type function\n",
    "def func(name):\n",
    "    print(f\"Hello {name}..\")\n",
    "\n",
    "#Parameterised with return type function    \n",
    "def func2(name):\n",
    "    return f\"Good Morning {name}..\"\n",
    "\n",
    "#Function with no parameter and no argument\n",
    "def func3():\n",
    "    print(\"Hello Universe..\")\n",
    "\n",
    "#Function without parameter but with return type \n",
    "def func4():\n",
    "    return f\"Welcome to the coding world..\"\n",
    "    \n",
    "    \n",
    "def main():\n",
    "    name = \"sushil\"\n",
    "    func(name)\n",
    "    print(func2(name)) \n",
    "    func3()\n",
    "    print(func4())\n",
    "    \n",
    "     \n",
    "if __name__ == \"__main__\":\n",
    "    main()\n",
    "\n",
    "\n",
    "\n",
    "\n",
    "\n"
   ]
  },
  {
   "cell_type": "code",
   "execution_count": 5,
   "id": "817db980-fcef-497e-b875-7705f232d255",
   "metadata": {},
   "outputs": [
    {
     "name": "stdout",
     "output_type": "stream",
     "text": [
      "Good Morning ashish\n",
      "Good Morning sagar\n"
     ]
    }
   ],
   "source": [
    "#Basics of Functions:\n",
    "#2. How do you define a function in Python? Provide an example.\n",
    "\n",
    "'''To define a function we have to use def keyword before the function name.\n",
    "   syntax: def function_name(arguments):  ____arguments optional\n",
    "               --------------\n",
    "               --------------\n",
    "                return ------    ___ optional\n",
    "                \n",
    "    As we can see in the syntax we have to use def keyword and paranthesis with function name. here the arguments are\n",
    "    optional depends upon the logic of function...the arguments dereecides the the type of function like parameterised,\n",
    "    default parameterised, etc.'''\n",
    "\n",
    "#default parameterised function..\n",
    "def greet(name = 'sagar'):\n",
    "    print(f\"Good Morning {name}\")\n",
    "    \n",
    "    \n",
    "def main():\n",
    "    name = \"ashish\"\n",
    "    greet(name) #if we pass the parameter it will print which we have passed.\n",
    "    greet()    #---- Otherwise it will print default one..\n",
    "\n",
    "if __name__ == \"__main__\":\n",
    "    main()\n",
    "\n",
    "\n"
   ]
  },
  {
   "cell_type": "code",
   "execution_count": 8,
   "id": "862b4206-ef92-4617-935b-3dab66be7dc0",
   "metadata": {},
   "outputs": [
    {
     "name": "stdout",
     "output_type": "stream",
     "text": [
      "6\n",
      "8\n"
     ]
    }
   ],
   "source": [
    "#Basics of Functions:\n",
    "#3. Explain the difference between a function definition and a function call.\n",
    "\n",
    "'''a function definition and a function call are two distinct aspects of working with functions\n",
    "   defination:  A function definition is where you define the behavior and structure of a function.\n",
    "                It specifies what the function does when called and how it should behave.\n",
    "                a defination startswith def keyword followed by funcion name and paranthesis pair after that the colon.\n",
    "                and the function body or logical code is indented.\n",
    "   function call: A function call is when you want to actually invoke the function that you have defined.\n",
    "                  while function call you can pass the parameter when the function is accepts the arguments.\n",
    "                  you can call it multiple times whenever required.'''\n",
    "\n",
    "def func5(a=3, b=5):\n",
    "    print(a+b)\n",
    "                  \n",
    "def main():\n",
    "    a = 4\n",
    "    b = 2\n",
    "    func5(a,b) # passing parameter\n",
    "    func5() #as function has default arguments then passing arguments from here is optional.\n",
    "    \n",
    "if __name__ == \"__main__\":\n",
    "    main()\n",
    "    \n",
    "    \n",
    "    "
   ]
  },
  {
   "cell_type": "code",
   "execution_count": 9,
   "id": "733dd94e-dd0e-47b0-8dc1-a5b9f993d51d",
   "metadata": {},
   "outputs": [
    {
     "name": "stdout",
     "output_type": "stream",
     "text": [
      "Answer = 9\n"
     ]
    }
   ],
   "source": [
    "#Basics of Functions:\n",
    "#4. Write a Python program that defines a function to calculate the sum of two numbers and then\n",
    "#   calls the function.\n",
    "\n",
    "def add(p,q):\n",
    "    c = p+q\n",
    "    return c\n",
    "\n",
    "def main():\n",
    "    a = 3\n",
    "    b = 6\n",
    "    result = add(a,b)\n",
    "    print(f\"Answer = {result}\")\n",
    "\n",
    "if __name__ == \"__main__\":\n",
    "    main()\n",
    "    \n",
    "\n"
   ]
  },
  {
   "cell_type": "code",
   "execution_count": 10,
   "id": "2efa5561-c8ad-4876-9e6e-085401c2e608",
   "metadata": {},
   "outputs": [
    {
     "name": "stdout",
     "output_type": "stream",
     "text": [
      "sllikswp\n"
     ]
    }
   ],
   "source": [
    "#Basics of Functions:\n",
    "#5. What is a function signature, and what information does it typically include?\n",
    "\n",
    "'''The function defines the basic information about the function, such as its name,\n",
    "   parameters, return type, and sometimes other attributes.\n",
    "   the signature helps both prgrammer and compiler to understand the code \n",
    "   \n",
    "   function name = the name is known as identifires which is used to call the function.\n",
    "   parameters = these are enclosed in paranthesis some times it empty ie no one parameter it accepts..\n",
    "   return type = the return statements indicates the function will return some value so we have to \n",
    "   store it in another variable while calling.'''\n",
    "\n",
    "\n",
    "def sample(string):\n",
    "    reverse = string[::-1].lower()\n",
    "    return reverse\n",
    "\n",
    "def main():\n",
    "    string = \"Pwskills\"\n",
    "    modified = sample(string)\n",
    "    print(modified)\n",
    "\n",
    "if __name__ == \"__main__\":\n",
    "    main()\n",
    "\n",
    "\n"
   ]
  },
  {
   "cell_type": "code",
   "execution_count": 11,
   "id": "57318959-d0b8-4896-b9cb-417363f09add",
   "metadata": {},
   "outputs": [
    {
     "name": "stdout",
     "output_type": "stream",
     "text": [
      "Product of a nad b 15\n"
     ]
    }
   ],
   "source": [
    "#Basics of Functions:\n",
    "#6. Create a Python function that takes two arguments and returns their product.\n",
    "\n",
    "def product(x,y):\n",
    "    return x*y\n",
    "    \n",
    "def main():\n",
    "    a = 5\n",
    "    b = 3\n",
    "    print(f\"Product of a nad b {product(a,b)}\")\n",
    "\n",
    "if __name__ == \"__main__\":\n",
    "    main()\n",
    "    "
   ]
  },
  {
   "cell_type": "code",
   "execution_count": 12,
   "id": "ac26d606-3cde-4229-a4d7-ca1084244f04",
   "metadata": {},
   "outputs": [
    {
     "name": "stdout",
     "output_type": "stream",
     "text": [
      "Hello, Alice!\n"
     ]
    }
   ],
   "source": [
    "#Function Parameters and Arguments:\n",
    "#1. Explain the concepts of formal parameters and actual arguments in Python functions.\n",
    "\n",
    "'''Formal parameters : Formal parameters are placeholders or variables defined in the function's \n",
    "                        parameter list (within the parentheses) when the function is defined.\n",
    "                        which indicates the data which function functio will accepts when it will get called.\n",
    "                        -they act as a loacal variable within a function scope.\n",
    "   Actual Parameters : these parameters hold the actual arguments valus or expression that we have to provide\n",
    "                       when we call the function.\n",
    "                       these paremeter pass to a function and replace corrsponding with the formal parameters\n",
    "                       during the function execution.'''\n",
    "                       \n",
    "def greet(name):\n",
    "    \"\"\"This function greets the person passed as a parameter.\"\"\"\n",
    "    print(f\"Hello, {name}!\")\n",
    "\n",
    "def main():\n",
    "    greet(\"Alice\")\n",
    "    \n",
    "    \n",
    "if __name__ == \"__main__\":\n",
    "    main()    \n",
    "    "
   ]
  },
  {
   "cell_type": "code",
   "execution_count": 13,
   "id": "2ca4ea49-dabe-4086-b952-ca568da125ed",
   "metadata": {},
   "outputs": [
    {
     "name": "stdout",
     "output_type": "stream",
     "text": [
      "passed value answer = 6\n",
      "Default value answer = 8\n"
     ]
    }
   ],
   "source": [
    "#Function Parameters and Arguments:\n",
    "#2. Write a Python program that defines a function with default argument values.\n",
    "\n",
    "def func5(a=3, b=5):\n",
    "    c = a+b\n",
    "    return c\n",
    "                  \n",
    "def main():\n",
    "    x = 4\n",
    "    y = 2\n",
    "    result = func5(x,y) # passing parameter\n",
    "    print(f\"passed value answer = {result}\")\n",
    "    result2 = func5() #as function has default arguments then passing arguments from here is optional.\n",
    "    print(f\"Default value answer = {result2}\")\n",
    "    \n",
    "if __name__ == \"__main__\":\n",
    "    main()"
   ]
  },
  {
   "cell_type": "code",
   "execution_count": 14,
   "id": "4ca932ce-6dfa-43cf-8001-6aaec4918eab",
   "metadata": {},
   "outputs": [
    {
     "name": "stdout",
     "output_type": "stream",
     "text": [
      "Hello, Alice! You are 25 years old.\n"
     ]
    }
   ],
   "source": [
    "#Function Parameters and Arguments:\n",
    "#3. How do you use keyword arguments in Python function calls? Provide an example.\n",
    "\n",
    "'''While calling the function we havew to pass parameters. so while passing parameters we can pass with keyword arguments.\n",
    "   - this allows us to pass out of order parameter \n",
    "   - while passing parameter from function call we have to use formal variables name of function with values. we will see in eg..'''\n",
    "\n",
    "def greet(name, age):\n",
    "    \"\"\"This function greets a person by name and age.\"\"\"\n",
    "    print(f\"Hello, {name}! You are {age} years old.\")\n",
    "\n",
    "def main():\n",
    "    greet(age=25, name=\"Alice\") #we are passing out of order parrameters.\n",
    "if __name__ == \"__main__\":\n",
    "    main()\n"
   ]
  },
  {
   "cell_type": "code",
   "execution_count": 15,
   "id": "75098634-ac58-428d-9446-f13382fd2a6b",
   "metadata": {},
   "outputs": [
    {
     "name": "stdout",
     "output_type": "stream",
     "text": [
      "Sum: 15\n"
     ]
    }
   ],
   "source": [
    "#Function Parameters and Arguments:\n",
    "#4. Create a Python function that accepts a variable number of arguments and calculates their sum.\n",
    "\n",
    "def calculate_sum(*args):\n",
    "    \"\"\"This function calculates the sum of a variable number of arguments.\"\"\"\n",
    "    total = 0\n",
    "    for num in args:\n",
    "        total += num\n",
    "    return total\n",
    "\n",
    "def main():\n",
    "    # Example usage\n",
    "    result = calculate_sum(1, 2, 3, 4, 5)\n",
    "    print(\"Sum:\", result)  # Output: Sum: 15\n",
    "    \n",
    "if __name__ == \"__main__\":\n",
    "    main()"
   ]
  },
  {
   "cell_type": "code",
   "execution_count": 2,
   "id": "7fdcf2e1-5f81-4686-b448-87d8dac9dd4a",
   "metadata": {},
   "outputs": [
    {
     "name": "stdout",
     "output_type": "stream",
     "text": [
      "15\n",
      "name: Alice\n",
      "age: 30\n",
      "city: New York\n"
     ]
    }
   ],
   "source": [
    "#Function Parameters and Arguments:\n",
    "#5. What is the purpose of the `*args` and `**kwargs` syntax in function parameter lists?\n",
    "\n",
    "'''*args : The *args syntax allows a function to accept a variable number of positional arguments. \n",
    "           It collects these arguments into a tuple within the function.\n",
    "   **kwargs :The **kwargs syntax allows a function to accept a variable number of keyword arguments (key-value pairs).\n",
    "             It collects these arguments into a dictionary'''\n",
    "           \n",
    "    \n",
    "def calculate_sum(*args):\n",
    "    \"\"\"Calculates the sum of a variable number of arguments.\"\"\"\n",
    "    total = 0\n",
    "    for num in args:\n",
    "        total += num\n",
    "    return total\n",
    "\n",
    "\n",
    "def display_info(**kwargs):\n",
    "    \"\"\"Displays information using keyword arguments.\"\"\"\n",
    "    for key, value in kwargs.items():\n",
    "        print(f\"{key}: {value}\")\n",
    "\n",
    "\n",
    "\n",
    "\n",
    "\n",
    "def main():\n",
    "    result = calculate_sum(1, 2, 3, 4, 5)\n",
    "    print(result)  \n",
    "\n",
    "    display_info(name=\"Alice\", age=30, city=\"New York\")\n",
    "    \n",
    "if __name__ == \"__main__\":\n",
    "    main()    \n",
    "    \n",
    "    "
   ]
  },
  {
   "cell_type": "code",
   "execution_count": 5,
   "id": "538530c9-dc68-4242-ba5b-9797732748dc",
   "metadata": {},
   "outputs": [
    {
     "name": "stdin",
     "output_type": "stream",
     "text": [
      "Enter the 1st Number :  9\n",
      "Enter the 2nd number :  0\n"
     ]
    },
    {
     "name": "stdout",
     "output_type": "stream",
     "text": [
      "9 + 0 =  9\n"
     ]
    }
   ],
   "source": [
    "#Return Values and Scoping:\n",
    "#1. Describe the role of the `return` statement in Python functions and provide examples.\n",
    "\n",
    "'''The return statement is generally used in functions to return the result of complete logic.\n",
    "   - when function is called then the compiler starts to execute the block of code and caculate \n",
    "     the result then the output we get with the help of return function.\n",
    "   -As soon as the compiler reads the return statement. the compiler exit the function with the calculated output.  \n",
    "   -you can write multiple times return statements according to conditions.\n",
    "'''\n",
    "\n",
    "def func7(a,b):\n",
    "    c = a+b   # function is calculating the sum \n",
    "    return c  # returning result\n",
    "\n",
    "def main():\n",
    "    x = int(input(\"Enter the 1st Number : \"))\n",
    "    y = int(input(\"Enter the 2nd number : \"))\n",
    "    result = func7(x,y)   #the return value stored in the 'result' variable..\n",
    "    print(f\"{x} + {y} = \",result)\n",
    "    \n",
    "if __name__ == \"__main__\":\n",
    "    main()    \n"
   ]
  },
  {
   "cell_type": "code",
   "execution_count": 2,
   "id": "b73e0e7f-61ce-4ed2-ac46-94cf6dff12a6",
   "metadata": {},
   "outputs": [
    {
     "name": "stdout",
     "output_type": "stream",
     "text": [
      "Globle variable :  20\n",
      "Modified Globle variable :  25\n",
      "Local variable :  10\n"
     ]
    }
   ],
   "source": [
    "#Return Values and Scoping:\n",
    "#2. Explain the concept of variable scope in Python, including local and global variables.\n",
    "\n",
    "'''Variable plays the vital role in every programming languages. So there are two types of variables local and globle variables.\n",
    "local variable : -The local variable are those which defines in perticular block of code like a function. \n",
    "                  So the scope of that variable is only for that block of function only.\n",
    "                 - Local variable cannot be accessed outside the function or block of code.\n",
    "                 - it is created when the function get called and destroyed when the function get exits. \n",
    "global variable :-The globle variable are those which define on the top level of python script. \n",
    "                   and can be accessed anywhere in programme.\n",
    "                -the scope of this variable is not limited to specific function or block of code.\n",
    "                -The global variable created when the programme start.\n",
    "\n",
    "'''\n",
    "\n",
    "global_var = 20  # This is a global variable\n",
    "\n",
    "def modify_global():\n",
    "    global global_var  # accessing globle variable... \n",
    "    global_var += 5\n",
    "\n",
    "\n",
    "\n",
    "\n",
    "\n",
    "\n",
    "def my_function():\n",
    "    local_var = 10  # This is a local variable\n",
    "    print(f\"Local variable : \",local_var)\n",
    "\n",
    "    \n",
    "def main():  \n",
    "    print(f\"Globle variable : \",global_var)  # Output: 20\n",
    "    modify_global()\n",
    "    print(f\"Modified Globle variable : \",global_var)  # Output: 25\n",
    "\n",
    "\n",
    "    my_function()  #local variable acessing\n",
    "    \n",
    "if __name__ == \"__main__\":\n",
    "    main()    \n",
    "\n",
    "\n",
    "\n",
    "\n"
   ]
  },
  {
   "cell_type": "code",
   "execution_count": 3,
   "id": "e485ad52-c462-42e0-adb2-273596cd88f0",
   "metadata": {},
   "outputs": [
    {
     "name": "stdout",
     "output_type": "stream",
     "text": [
      "Initial global variable: 10\n",
      "Global variable after incrementing: 11\n",
      "Global variable: 11\n"
     ]
    }
   ],
   "source": [
    "#Return Values and Scoping:\n",
    "#3. Write a Python program that demonstrates the use of global variables within functions.\n",
    "\n",
    "\n",
    "# Global variable\n",
    "global_var = 10\n",
    "\n",
    "def increment_global():\n",
    "    \n",
    "    global global_var  # Access and modify the global variable\n",
    "    global_var += 1\n",
    "\n",
    "def print_global():\n",
    "    \n",
    "    print(\"Global variable:\", global_var)   # Access the global variable without modification\n",
    "\n",
    "def main():\n",
    "    print(\"Initial global variable:\", global_var)\n",
    "\n",
    "    \n",
    "    increment_global()\n",
    "    print(\"Global variable after incrementing:\", global_var)\n",
    "\n",
    "    \n",
    "    print_global()\n",
    "\n",
    "if __name__ == \"__main__\":\n",
    "    main()\n",
    "\n",
    "\n"
   ]
  },
  {
   "cell_type": "code",
   "execution_count": 5,
   "id": "be66e613-2c16-4772-947c-dfdf9cea6e03",
   "metadata": {},
   "outputs": [
    {
     "name": "stdout",
     "output_type": "stream",
     "text": [
      "The factorial of 5 is 120\n"
     ]
    }
   ],
   "source": [
    "#Return Values and Scoping:\n",
    "#4. Create a Python function that calculates the factorial of a number and returns it.\n",
    "\n",
    "def factorial(n):\n",
    "    \n",
    "    if n == 0 or n == 1:\n",
    "        return 1\n",
    "    else:\n",
    "        result = 1\n",
    "        \n",
    "        for i in range(2, n + 1):\n",
    "            result *= i\n",
    "        return result\n",
    "\n",
    "def main():\n",
    "    num = 5\n",
    "    fact = factorial(num)\n",
    "    print(f\"The factorial of {num} is {fact}\")\n",
    "\n",
    "if __name__ == \"__main__\":\n",
    "    main()\n",
    "    \n",
    "    "
   ]
  },
  {
   "cell_type": "code",
   "execution_count": 10,
   "id": "51db5810-0c1c-490a-abb2-3d85f5740c26",
   "metadata": {},
   "outputs": [
    {
     "name": "stdout",
     "output_type": "stream",
     "text": [
      "Accessing global_var from within the function: 10\n",
      "Modified global_var: 15\n"
     ]
    }
   ],
   "source": [
    "#Return Values and Scoping:\n",
    "#5. How can you access variables defined outside a function from within the function?\n",
    "\n",
    "''' to access the variable defined outside of the function within the the function simply we can reff the name.\n",
    "    - the accessing method depends upon the purpose of getting value.\n",
    "    - suppose if you wnat to only read the globle variable then you can directly fetch the value of \n",
    "      variable by referrcing variable by its name.\n",
    "    - but if you want to modify or update the value of globle variable then you have to use a 'globle' keyword to \n",
    "      indicate that you are reffering to a globle variable not creating a new local variable with same name.'''  \n",
    "\n",
    "\n",
    "global_var = 10  # This is a global variable\n",
    "\n",
    "def access_global():\n",
    "    print(\"Accessing global_var from within the function:\", global_var) # while reading we can access it by its name if \n",
    "                                                                        # no other local variable is available defined in function \n",
    "                                                                        # with same name.\n",
    "\n",
    "def modify_global():\n",
    "    global global_var     # to modify the value of globle variable you have to decalre it with globle keyword\n",
    "    global_var += 5       # and then you can modify it.\n",
    "\n",
    "def main():    \n",
    "    access_global()\n",
    "    modify_global()\n",
    "    print(\"Modified global_var:\", global_var)\n",
    "\n",
    "if __name__ == \"__main__\":\n",
    "    main()\n",
    "    \n"
   ]
  },
  {
   "cell_type": "code",
   "execution_count": 3,
   "id": "6bf7b449-673d-4efe-a093-38a2dea62762",
   "metadata": {},
   "outputs": [
    {
     "name": "stdout",
     "output_type": "stream",
     "text": [
      "Squared List : [16, 9, 64, 36, 25]\n",
      "Total sum of sqr of numbers which is less than 26 from above list : 150\n"
     ]
    }
   ],
   "source": [
    "#Lambda Functions and Higher-Order Functions:\n",
    "#1. What are lambda functions in Python, and when are they typically used?\n",
    "\n",
    "'''Lambda function is also known as anonymous function.\n",
    "  -It is python feature that allows you to create a small function without name\n",
    "   which is define in one line and stored in a variable.\n",
    "  -They are typically used for short, one-time operations where defining a full function \n",
    "   using the def keyword is worst than lambda.  \n",
    "  -Syntax : lambda arguments: expression\n",
    "  -its a unnamed and contains only one line expression and returns the result of a function.\n",
    "  -It is used for simple operations not for complex logic.  If you want to use larger logical expression \n",
    "   then it is better to use def keyword function.\n",
    "  - It can be used with filter , map, reduce. function..'''\n",
    "\n",
    "from functools import reduce\n",
    " \n",
    "def main():\n",
    "    lst = [4,3,8,6,5]\n",
    "    sqr_lst = list(map(lambda x : x**2,lst))\n",
    "    print(f\"Squared List : {sqr_lst}\")\n",
    "    \n",
    "    lambdalst = reduce(lambda a,b:a+b,map(lambda x: x**2,filter(lambda a : a<=25,lst)))\n",
    "    print(f\"Total sum of sqr of numbers which is less than 26 from above list : {lambdalst}\")\n",
    "\n",
    "if __name__ == \"__main__\":\n",
    "    main()\n"
   ]
  },
  {
   "cell_type": "code",
   "execution_count": 4,
   "id": "2efb72f5-72b6-4451-8849-bd2d28afb537",
   "metadata": {},
   "outputs": [
    {
     "name": "stdout",
     "output_type": "stream",
     "text": [
      "[(4, 2), (1, 5), (2, 8), (3, 10)]\n"
     ]
    }
   ],
   "source": [
    "#Lambda Functions and Higher-Order Functions:\n",
    "#2. Write a Python program that uses lambda functions to sort a list of tuples based on the second\n",
    "#   element.\n",
    "\n",
    "def main():\n",
    "    \n",
    "    data = [(3, 10), (1, 5), (2, 8), (4, 2)]\n",
    "\n",
    "    sorted_data = sorted(data, key=lambda x: x[1])\n",
    "    print(sorted_data)\n",
    "\n",
    "if __name__ == \"__main__\":\n",
    "    main()\n",
    "\n",
    "\n"
   ]
  },
  {
   "cell_type": "code",
   "execution_count": 1,
   "id": "4860de15-871a-491f-92e5-85f0618a3b93",
   "metadata": {},
   "outputs": [
    {
     "name": "stdout",
     "output_type": "stream",
     "text": [
      "Result of addition: 8\n",
      "Result of subtraction: 5\n",
      "Result of multiplication: 24\n",
      "Result of division: 4.0\n"
     ]
    }
   ],
   "source": [
    "#Lambda Functions and Higher-Order Functions:\n",
    "#3. Explain the concept of higher-order functions in Python, and provide an example.\n",
    "\n",
    "'''-In Python, a higher-order function is a function that takes one or more functions as \n",
    "    arguments or returns a function as its result. In other words, a higher-order function \n",
    "    treats functions as first-class citizens, allowing you to manipulate and work with them \n",
    "    just like any other data type.'''\n",
    "    \n",
    "\n",
    "\n",
    "def apply_operation(operation, x, y):   # Higher-order function that takes a function as an argument\n",
    "    return operation(x, y)\n",
    "\n",
    "\n",
    "def add(x, y):\n",
    "    return x + y\n",
    "\n",
    "def subtract(x, y):            # Functions to be used as arguments\n",
    "    return x - y\n",
    "\n",
    "def multiply(x, y):\n",
    "    return x * y\n",
    "\n",
    "def divide(x, y):\n",
    "    if y != 0:\n",
    "        return x / y\n",
    "    else:\n",
    "        return \"Cannot divide by zero\"\n",
    "\n",
    "def main():\n",
    "    result1 = apply_operation(add, 5, 3)\n",
    "    result2 = apply_operation(subtract, 7, 2)\n",
    "    result3 = apply_operation(multiply, 4, 6)\n",
    "    result4 = apply_operation(divide, 8, 2)\n",
    "\n",
    "    print(\"Result of addition:\", result1)       \n",
    "    print(\"Result of subtraction:\", result2)    \n",
    "    print(\"Result of multiplication:\", result3) \n",
    "    print(\"Result of division:\", result4)       \n",
    "\n",
    "if __name__ == \"__main__\":\n",
    "    main()\n"
   ]
  },
  {
   "cell_type": "code",
   "execution_count": 2,
   "id": "691c00ad-1472-4cca-865a-8decf66531e5",
   "metadata": {},
   "outputs": [
    {
     "name": "stdout",
     "output_type": "stream",
     "text": [
      "Original numbers: [1, 2, 3, 4, 5]\n",
      "Squared numbers: [1, 4, 9, 16, 25]\n"
     ]
    }
   ],
   "source": [
    "#Lambda Functions and Higher-Order Functions:\n",
    "#4. Create a Python function that takes a list of numbers and a function as arguments, applying the\n",
    "#   function to each element in the list.\n",
    "\n",
    "\n",
    "\n",
    "def apply_function_to_list(numbers, func):\n",
    "    result = []\n",
    "    for num in numbers:\n",
    "        result.append(func(num))\n",
    "    return result\n",
    "\n",
    "\n",
    "def square(x):\n",
    "    return x ** 2\n",
    "\n",
    "def main():\n",
    "    numbers = [1, 2, 3, 4, 5]\n",
    "    squared_numbers = apply_function_to_list(numbers, square)\n",
    "\n",
    "   \n",
    "    print(\"Original numbers:\", numbers)\n",
    "    print(\"Squared numbers:\", squared_numbers)\n",
    "    \n",
    "if __name__ == \"__main__\":\n",
    "    main()\n",
    "    \n",
    "    \n"
   ]
  },
  {
   "cell_type": "code",
   "execution_count": 9,
   "id": "a4a7fe6c-ac27-41dc-96af-e0e1d1c98f95",
   "metadata": {},
   "outputs": [
    {
     "name": "stdout",
     "output_type": "stream",
     "text": [
      "Length of int list : 7\n",
      "Length of str list: 4\n",
      "\n",
      "Maximum Value from int list : 11\n",
      "Maximum Value from str list : shubh\n",
      "\n",
      "Minimum value from int list : 2\n",
      "Minimum value from str list : kashinath\n"
     ]
    }
   ],
   "source": [
    "#Built-in Functions:\n",
    "#1. Describe the role of built-in functions like `len()`, `max()`, and `min()` in Python.\n",
    "\n",
    "'''-There are lots of built in functions in python library. and these 3 functions are also part of those function tools.\n",
    "1.len() : -This function takes a single arguments but the argument should be a collection or a sequence.\n",
    "            and it will returns the total number of characters or elements of th sequence.\n",
    "          - It is works on string, list, tuple,set etc..\n",
    "          -you cannot pass the intger value as an arguments but you can pass the collection of those type.\n",
    "2.max() : - This function is similar to len() in passing the arguments but it return the greater element from the collection\n",
    "          - It can also accept multiple arguments and return the maximum among them.\n",
    "3.min():  -It is completely similar to max() function the only difference is the max() returns the maximum value  \n",
    "           and the min() return the minimum values.\n",
    "          -The min() and max() can also works on string collections but the collection should be homogenius \n",
    "           collection of string and it returns the output on the basis of length of strings.\n",
    "          '''\n",
    "\n",
    "def main():\n",
    "    int_lst = [2,6.5,4,11,8.08,5,9] # this list is of heterogenious of int and float but both type are number or integer type\n",
    "                                    # so here comparision is possible.\n",
    "    str_lst = (\"sagar\",\"shubh\",\"mit\",\"kashinath\") #While using a min and max function on string collection.\n",
    "                                                  # make sure the collection must be homogenius collection of only string\n",
    "    int_length = len(int_lst)\n",
    "    str_length = len(str_lst)\n",
    "    print(f\"Length of int list : {int_length}\")\n",
    "    print(f\"Length of str list: {str_length}\")\n",
    "    \n",
    "    int_max_val = max(int_lst)\n",
    "    str_max_val = max(str_lst)\n",
    "    print(f\"\\nMaximum Value from int list : {int_max_val}\")\n",
    "    print(f\"Maximum Value from str list : {str_max_val}\")\n",
    "    \n",
    "    \n",
    "    int_min_val = min(int_lst)\n",
    "    str_min_val = min(str_lst)\n",
    "    print(f\"\\nMinimum value from int list : {int_min_val}\")\n",
    "    print(f\"Minimum value from str list : {str_min_val}\")\n",
    "\n",
    "if __name__ == \"__main__\":\n",
    "    main()\n",
    "    "
   ]
  },
  {
   "cell_type": "code",
   "execution_count": 11,
   "id": "57ed9111-49a6-4e32-8f2b-2467cb78dc20",
   "metadata": {},
   "outputs": [
    {
     "name": "stdout",
     "output_type": "stream",
     "text": [
      "Squared list : [9, 64, 36, 25, 81, 1, 36]\n"
     ]
    }
   ],
   "source": [
    "#Built-in Functions:\n",
    "#2. Write a Python program that uses the `map()` function to apply a function to each element of a\n",
    "#   list.\n",
    "\n",
    "def sqr(num):\n",
    "    return num**2\n",
    "\n",
    "def main():\n",
    "    lst = [3,8,6,5,9,1,6,]\n",
    "    sqr_lst = list(map(sqr,lst))\n",
    "    print(f\"Squared list : {sqr_lst}\")\n",
    "\n",
    "if __name__ == \"__main__\":\n",
    "    main()\n"
   ]
  },
  {
   "cell_type": "code",
   "execution_count": 12,
   "id": "a697906f-49c4-47f3-8a3d-bfc99ae2327e",
   "metadata": {},
   "outputs": [
    {
     "name": "stdout",
     "output_type": "stream",
     "text": [
      "[3, 6, 9]\n"
     ]
    }
   ],
   "source": [
    "#Built-in Functions:\n",
    "#3. How does the `filter()` function work in Python, and when would you use it?\n",
    "\n",
    "'''-filter function is used to filter the list according to conditions.\n",
    "   -this function works on the basis of boolean values return by a function\n",
    "   -syntax : filter(function,collection)\n",
    "   -make sure the function you are passing should return the bool values.i.e. True or False.\n",
    "   -You can use lambda function or def declaration function also.'''\n",
    "\n",
    "def main():\n",
    "    lst = [3,81,6,53,39,31,60,9]\n",
    "    \n",
    "    less_31lst = list(filter(lambda a: a<=30,lst)) #filters out element which are greater than 30\n",
    "    print(less_31lst)\n",
    "    \n",
    "if __name__ == \"__main__\":\n",
    "    main()\n",
    "  \n"
   ]
  },
  {
   "cell_type": "code",
   "execution_count": 15,
   "id": "98eb905e-5ea3-42cf-9101-b87667d1043b",
   "metadata": {},
   "outputs": [
    {
     "name": "stdout",
     "output_type": "stream",
     "text": [
      "List : [3, 8, 6, 5, 9, 1]\n",
      "Product of list : 6480\n"
     ]
    }
   ],
   "source": [
    "#Built-in Functions:\n",
    "#4. Create a Python program that uses the `reduce()` function to find the product of all elements in\n",
    "#   a list.\n",
    "\n",
    "from functools import reduce\n",
    "\n",
    "def main():\n",
    "    lst = [3,8,6,5,9,1]\n",
    "    print(f\"List : {lst}\")\n",
    "    product = reduce(lambda a,b:a*b,lst) \n",
    "    \n",
    "    print(f\"Product of list : {product}\")\n",
    "\n",
    "if __name__ == \"__main__\":\n",
    "    main()    \n",
    "\n"
   ]
  },
  {
   "cell_type": "code",
   "execution_count": 1,
   "id": "61427b68-76b8-40b3-a0f0-9639c2cbb64a",
   "metadata": {},
   "outputs": [
    {
     "name": "stdout",
     "output_type": "stream",
     "text": [
      "Hello, Ashish!\n"
     ]
    }
   ],
   "source": [
    "#Function Documentation and Best Practices:\n",
    "#1. Explain the purpose of docstrings in Python functions and how to write them\n",
    "\n",
    "'''-In python the docstring is used to describe the documentation about function, methode, modules,etc.\n",
    "   -you can write any information about the code.\n",
    "   -It is used to make a code human readable documentations about the purpose ,usage, behaviour of code.\n",
    "   -Properly documentation is easier to understand the code in future and we can maintain and modify it whenever required in less time.\n",
    "   -the docstring is always enclosed in triple quotes.'''\n",
    "\n",
    "def greet(name):\n",
    "    \"\"\"This function takes name as input and return the greeting messsage along with the name\n",
    "    \n",
    "    arguments : \n",
    "    name(str) : The name of the person to greet.\n",
    "    \n",
    "    Returns:\n",
    "    str: A greeting message.\"\"\"\n",
    "    \n",
    "    return f\"Hello, {name}!\"\n",
    "\n",
    "\n",
    "def main():\n",
    "    \n",
    "    print(greet(\"Ashish\"))\n",
    "    \n",
    "\n",
    "if __name__ == \"__main__\":\n",
    "    main() \n",
    "\n",
    "\n"
   ]
  },
  {
   "cell_type": "code",
   "execution_count": 3,
   "id": "6e9f3420-c40d-4a40-aa66-084631d8fd0e",
   "metadata": {},
   "outputs": [
    {
     "name": "stdout",
     "output_type": "stream",
     "text": [
      "John Doe\n",
      "Hello, my name is Jane and I am 25 years old.\n"
     ]
    }
   ],
   "source": [
    "#Function Documentation and Best Practices:\n",
    "#2.Describe some best practices for naming functions and variables in python, including naming conventions\n",
    "#  and guidelines.\n",
    "\n",
    "'''Naming functions and variables in Python is an important aspect of writing clean, readable, \n",
    "   and maintainable code. Following naming conventions and best practices helps make your code more\n",
    "   understandable to you, your team, and anyone who might work with your code in the future.\n",
    "   rules:\n",
    "   - Use descriptive names which describe the purpose of variable. Avoid names like 'temp','foo','x' in future\n",
    "     or the team which is working on same project will be not able to understand these variable name or what is purpose.\n",
    "     So use descriptive names.\n",
    "   -PEP 8 is the official Python style guide, and it provides recommendations for naming conventions.\n",
    "   -For function and variable names, use lowercase letters with underscores for readability (snake_case).\n",
    "    For example, calculate_average, user_name.\n",
    "   -Maintain consistent naming patterns throughout your codebase. If you start with one naming convention, stick to it.\n",
    "   -Consistency improves code readability and reduces confusion.\n",
    "   -Function names should typically start with a verb that describes the action the function performs.\n",
    "    For example, calculate_average, fetch_data, validate_input.\n",
    "   -Avoid using ambiguous or overloaded terms that might confuse readers. Be clear and explicit in your naming.\n",
    "    For example, don't use names like list or dict for variables since they could be mistaken for built-in types.\n",
    "   -When naming collections or variables that represent multiple items, use plural names to indicate their nature. \n",
    "    For example, students, books\n",
    "   -Prefix Private Variables with Underscore:\n",
    "     To indicate that a variable or function is intended for internal use within a module or class, prefix it with\n",
    "     a single underscore (e.g., _private_var, _internal_function).\n",
    "   -Avoid using reserved keyword..  \n",
    "   '''\n",
    "\n",
    "class Person:\n",
    "    def __init__(self, first_name, last_name, age):\n",
    "        self.first_name = first_name\n",
    "        self.last_name = last_name\n",
    "        self.age = age\n",
    "\n",
    "    def get_full_name(self):\n",
    "        \"\"\"Returns the full name of the person.\"\"\"\n",
    "        return f\"{self.first_name} {self.last_name}\"\n",
    "\n",
    "    def greet(self):\n",
    "        \"\"\"Greets the person.\"\"\"\n",
    "        return f\"Hello, my name is {self.first_name} and I am {self.age} years old.\"\n",
    "\n",
    "    \n",
    "def main():    \n",
    "    # Creating instances of the Person class\n",
    "    person1 = Person(\"John\", \"Doe\", 30)\n",
    "    person2 = Person(\"Jane\", \"Smith\", 25)\n",
    "\n",
    "    # Accessing attributes and calling methods\n",
    "    print(person1.get_full_name())  # Output: John Doe\n",
    "    print(person2.greet())          # Output: Hello, my name is Jane and I am 25 years old.\n",
    "\n",
    "if __name__ == \"__main__\":\n",
    "    main() \n",
    "    \n",
    "    "
   ]
  },
  {
   "cell_type": "code",
   "execution_count": null,
   "id": "adaa9901-867c-4af3-8718-5197beca7c7c",
   "metadata": {},
   "outputs": [],
   "source": []
  }
 ],
 "metadata": {
  "kernelspec": {
   "display_name": "Python 3 (ipykernel)",
   "language": "python",
   "name": "python3"
  },
  "language_info": {
   "codemirror_mode": {
    "name": "ipython",
    "version": 3
   },
   "file_extension": ".py",
   "mimetype": "text/x-python",
   "name": "python",
   "nbconvert_exporter": "python",
   "pygments_lexer": "ipython3",
   "version": "3.10.8"
  }
 },
 "nbformat": 4,
 "nbformat_minor": 5
}
